{
 "cells": [
  {
   "cell_type": "markdown",
   "id": "0705121f",
   "metadata": {},
   "source": [
    "## 1. Upload the Data\n",
    "## 2. Cleaning missing data\n",
    "## 3. Standarizing crop/country names\n",
    "## 4. Handing outliers\n",
    "## 5. Plotting trends"
   ]
  },
  {
   "cell_type": "markdown",
   "id": "d8cf1556",
   "metadata": {},
   "source": [
    "!dir"
   ]
  },
  {
   "cell_type": "code",
   "execution_count": null,
   "id": "cfefc8aa",
   "metadata": {},
   "outputs": [],
   "source": [
    "!ls"
   ]
  },
  {
   "cell_type": "code",
   "execution_count": null,
   "id": "40736ceb",
   "metadata": {},
   "outputs": [],
   "source": [
    "import pandas as pd"
   ]
  },
  {
   "cell_type": "code",
   "execution_count": null,
   "id": "7ccee058",
   "metadata": {},
   "outputs": [],
   "source": [
    "df_all = pd.read_csv('Production_Crops_Livestock_E_All_Data.csv', low_memory=False)"
   ]
  },
  {
   "cell_type": "code",
   "execution_count": null,
   "id": "3afe53f4",
   "metadata": {},
   "outputs": [],
   "source": [
    "df_all.shape"
   ]
  },
  {
   "cell_type": "code",
   "execution_count": null,
   "id": "7e74fcf2",
   "metadata": {},
   "outputs": [],
   "source": [
    "df_all.columns"
   ]
  },
  {
   "cell_type": "code",
   "execution_count": null,
   "id": "4b0e4b5f",
   "metadata": {},
   "outputs": [],
   "source": [
    "df_all.head(10)"
   ]
  },
  {
   "cell_type": "code",
   "execution_count": null,
   "id": "f8703dbd",
   "metadata": {},
   "outputs": [],
   "source": [
    "print(df_all['Unit'].unique())"
   ]
  },
  {
   "cell_type": "code",
   "execution_count": null,
   "id": "3ad1dd18",
   "metadata": {},
   "outputs": [],
   "source": [
    "len(df_all['Area'].unique())"
   ]
  },
  {
   "cell_type": "code",
   "execution_count": null,
   "id": "2f09c943",
   "metadata": {},
   "outputs": [],
   "source": [
    "print(df_all['Area'].unique())"
   ]
  },
  {
   "cell_type": "code",
   "execution_count": null,
   "id": "b016da69",
   "metadata": {},
   "outputs": [],
   "source": [
    "print(df_all['Element'].unique())"
   ]
  },
  {
   "cell_type": "code",
   "execution_count": null,
   "id": "91bc6eb6",
   "metadata": {},
   "outputs": [],
   "source": [
    "## check missing data; Quick summary of nulls per column\n",
    "df_all.isnull().sum()"
   ]
  },
  {
   "cell_type": "code",
   "execution_count": null,
   "id": "15d7ad35",
   "metadata": {},
   "outputs": [],
   "source": [
    "# Percentage of missing values per column\n",
    "print((df_all.isnull().mean()*100).round(2))"
   ]
  },
  {
   "cell_type": "code",
   "execution_count": null,
   "id": "1ad896b7",
   "metadata": {},
   "outputs": [],
   "source": [
    "df_all = df_all.dropna(subset=['Area Code', 'Area Code (M49)', 'Area'])"
   ]
  },
  {
   "cell_type": "code",
   "execution_count": null,
   "id": "ba5bb757",
   "metadata": {},
   "outputs": [],
   "source": [
    "df_all.columns"
   ]
  },
  {
   "cell_type": "code",
   "execution_count": null,
   "id": "63ebdd41",
   "metadata": {},
   "outputs": [],
   "source": [
    "df_all['Unit'] = df_all['Unit'].fillna('unknown')"
   ]
  },
  {
   "cell_type": "code",
   "execution_count": null,
   "id": "c0433547",
   "metadata": {},
   "outputs": [],
   "source": [
    "##3.Standarizing crop/country names\n",
    "df_all['Area'].unique()"
   ]
  },
  {
   "cell_type": "code",
   "execution_count": null,
   "id": "3805c607",
   "metadata": {},
   "outputs": [],
   "source": [
    "country_list ={\n",
    "    'Syrian Arab Republic' : 'Syria',\n",
    "    'Venezuela (Bolivarian Republic Of)': 'Venezuela',\n",
    "    'United Republic Of Tanzania': 'Tanzania',\n",
    "    'Netherlands (Kingdom Of The)' : 'Netherlands'\n",
    "     }"
   ]
  },
  {
   "cell_type": "code",
   "execution_count": null,
   "id": "45a52c98",
   "metadata": {},
   "outputs": [],
   "source": [
    "df_all['Area'] = df_all['Area'].replace(country_list)"
   ]
  },
  {
   "cell_type": "code",
   "execution_count": null,
   "id": "913ef61a",
   "metadata": {},
   "outputs": [],
   "source": [
    "print(df_all['Area'] == 'Syria')"
   ]
  },
  {
   "cell_type": "code",
   "execution_count": null,
   "id": "75b07fbc",
   "metadata": {},
   "outputs": [],
   "source": [
    "df_all['Item'].unique()"
   ]
  },
  {
   "cell_type": "code",
   "execution_count": null,
   "id": "47f5e062",
   "metadata": {},
   "outputs": [],
   "source": [
    "#  Handle outliers:\n",
    "from scipy import stats"
   ]
  },
  {
   "cell_type": "code",
   "execution_count": null,
   "id": "2be5161e",
   "metadata": {},
   "outputs": [],
   "source": [
    "print(df_all.columns.tolist())"
   ]
  },
  {
   "cell_type": "code",
   "execution_count": null,
   "id": "95d94659",
   "metadata": {},
   "outputs": [],
   "source": [
    "df_head=df_all.head(10)"
   ]
  },
  {
   "cell_type": "code",
   "execution_count": null,
   "id": "d7ea3a27",
   "metadata": {},
   "outputs": [],
   "source": [
    "df_head = pd.melt(\n",
    "                  df_all, \n",
    "                  id_vars=['Area','Item', 'Element', 'Unit'],\n",
    "                  var_name='Year',\n",
    "                  value_name='Value')"
   ]
  },
  {
   "cell_type": "code",
   "execution_count": null,
   "id": "7c2d39ba",
   "metadata": {},
   "outputs": [],
   "source": [
    "df_head"
   ]
  },
  {
   "cell_type": "code",
   "execution_count": null,
   "id": "966e3e06",
   "metadata": {},
   "outputs": [],
   "source": []
  }
 ],
 "metadata": {
  "kernelspec": {
   "display_name": "Python 3 (ipykernel)",
   "language": "python",
   "name": "python3"
  },
  "language_info": {
   "codemirror_mode": {
    "name": "ipython",
    "version": 3
   },
   "file_extension": ".py",
   "mimetype": "text/x-python",
   "name": "python",
   "nbconvert_exporter": "python",
   "pygments_lexer": "ipython3",
   "version": "3.9.18"
  }
 },
 "nbformat": 4,
 "nbformat_minor": 5
}
