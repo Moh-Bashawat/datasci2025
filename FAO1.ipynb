{
 "cells": [
  {
   "cell_type": "markdown",
   "id": "0705121f",
   "metadata": {},
   "source": [
    "## 1. Upload the Data\n",
    "## 2. Cleaning missing data\n",
    "## 3. Standarizing crop/country names\n",
    "## 4. Handing outliers\n",
    "## 5. Plotting trends"
   ]
  },
  {
   "cell_type": "markdown",
   "id": "d8cf1556",
   "metadata": {},
   "source": [
    "!dir"
   ]
  },
  {
   "cell_type": "code",
   "execution_count": null,
   "id": "cfefc8aa",
   "metadata": {},
   "outputs": [],
   "source": [
    "!ls"
   ]
  },
  {
   "cell_type": "code",
   "execution_count": null,
   "id": "40736ceb",
   "metadata": {},
   "outputs": [],
   "source": [
    "import pandas as pd"
   ]
  },
  {
   "cell_type": "code",
   "execution_count": null,
   "id": "7ccee058",
   "metadata": {},
   "outputs": [],
   "source": [
    "df_all = pd.read_csv('Production_Crops_Livestock_E_All_Data.csv', low_memory=False)"
   ]
  },
  {
   "cell_type": "code",
   "execution_count": null,
   "id": "3afe53f4",
   "metadata": {},
   "outputs": [],
   "source": [
    "df_all.shape"
   ]
  },
  {
   "cell_type": "code",
   "execution_count": null,
   "id": "7e74fcf2",
   "metadata": {},
   "outputs": [],
   "source": [
    "df_all.columns"
   ]
  },
  {
   "cell_type": "code",
   "execution_count": null,
   "id": "4b0e4b5f",
   "metadata": {},
   "outputs": [],
   "source": [
    "df_all.head(10)"
   ]
  },
  {
   "cell_type": "code",
   "execution_count": null,
   "id": "f8703dbd",
   "metadata": {},
   "outputs": [],
   "source": [
    "print(df_all['Unit'].unique())"
   ]
  },
  {
   "cell_type": "code",
   "execution_count": null,
   "id": "3ad1dd18",
   "metadata": {},
   "outputs": [],
   "source": [
    "len(df_all['Area'].unique())"
   ]
  },
  {
   "cell_type": "code",
   "execution_count": null,
   "id": "2f09c943",
   "metadata": {},
   "outputs": [],
   "source": [
    "print(df_all['Area'].unique())"
   ]
  },
  {
   "cell_type": "code",
   "execution_count": null,
   "id": "b016da69",
   "metadata": {},
   "outputs": [],
   "source": [
    "print(df_all['Element'].unique())"
   ]
  },
  {
   "cell_type": "code",
   "execution_count": null,
   "id": "91bc6eb6",
   "metadata": {},
   "outputs": [],
   "source": [
    "## check missing data; Quick summary of nulls per column\n",
    "df_all.isnull().sum()"
   ]
  },
  {
   "cell_type": "code",
   "execution_count": null,
   "id": "15d7ad35",
   "metadata": {},
   "outputs": [],
   "source": [
    "# Percentage of missing values per column\n",
    "print((df_all.isnull().mean()*100).round(2))"
   ]
  },
  {
   "cell_type": "code",
   "execution_count": null,
   "id": "1ad896b7",
   "metadata": {},
   "outputs": [],
   "source": [
    "df_all = df_all.dropna(subset=['Area Code', 'Area Code (M49)', 'Area'])"
   ]
  },
  {
   "cell_type": "code",
   "execution_count": null,
   "id": "ba5bb757",
   "metadata": {},
   "outputs": [],
   "source": [
    "df_all.columns"
   ]
  },
  {
   "cell_type": "code",
   "execution_count": null,
   "id": "63ebdd41",
   "metadata": {},
   "outputs": [],
   "source": [
    "df_all['Unit'] = df_all['Unit'].fillna('unknown')"
   ]
  },
  {
   "cell_type": "code",
   "execution_count": null,
   "id": "c0433547",
   "metadata": {},
   "outputs": [],
   "source": [
    "##3.Standarizing crop/country names\n",
    "df_all['Area'].unique()"
   ]
  },
  {
   "cell_type": "code",
   "execution_count": null,
   "id": "3805c607",
   "metadata": {},
   "outputs": [],
   "source": [
    "country_list ={\n",
    "    'Syrian Arab Republic' : 'Syria',\n",
    "    'Venezuela (Bolivarian Republic Of)': 'Venezuela',\n",
    "    'United Republic Of Tanzania': 'Tanzania',\n",
    "    'Netherlands (Kingdom Of The)' : 'Netherlands'\n",
    "     }"
   ]
  },
  {
   "cell_type": "code",
   "execution_count": null,
   "id": "45a52c98",
   "metadata": {},
   "outputs": [],
   "source": [
    "df_all['Area'] = df_all['Area'].replace(country_list)"
   ]
  },
  {
   "cell_type": "code",
   "execution_count": null,
   "id": "913ef61a",
   "metadata": {},
   "outputs": [],
   "source": [
    "print(df_all['Area'])"
   ]
  },
  {
   "cell_type": "code",
   "execution_count": null,
   "id": "75b07fbc",
   "metadata": {},
   "outputs": [],
   "source": [
    "df_all['Item'].unique()"
   ]
  },
  {
   "cell_type": "code",
   "execution_count": null,
   "id": "47f5e062",
   "metadata": {},
   "outputs": [],
   "source": [
    "#  Handle outliers:\n",
    "from scipy import stats"
   ]
  },
  {
   "cell_type": "code",
   "execution_count": null,
   "id": "2be5161e",
   "metadata": {},
   "outputs": [],
   "source": [
    "print(df_all.columns.tolist())"
   ]
  },
  {
   "cell_type": "code",
   "execution_count": null,
   "id": "95d94659",
   "metadata": {},
   "outputs": [],
   "source": [
    "df_head=df_all.head(10)"
   ]
  },
  {
   "cell_type": "code",
   "execution_count": null,
   "id": "d7ea3a27",
   "metadata": {},
   "outputs": [],
   "source": [
    "df_head = pd.melt(\n",
    "                  df_all, \n",
    "                  id_vars=['Area','Item', 'Element', 'Unit'],\n",
    "                  var_name='Year',\n",
    "                  value_name='Value')"
   ]
  },
  {
   "cell_type": "code",
   "execution_count": null,
   "id": "7c2d39ba",
   "metadata": {},
   "outputs": [],
   "source": [
    "df_head"
   ]
  },
  {
   "cell_type": "code",
   "execution_count": null,
   "id": "966e3e06",
   "metadata": {},
   "outputs": [],
   "source": [
    "ls"
   ]
  },
  {
   "cell_type": "code",
   "execution_count": 1,
   "id": "10a5a611",
   "metadata": {},
   "outputs": [],
   "source": [
    "import pandas as pd"
   ]
  },
  {
   "cell_type": "code",
   "execution_count": 2,
   "id": "92d23da7",
   "metadata": {},
   "outputs": [],
   "source": [
    "df_all=pd.read_csv(\"Production_Crops_Livestock_E_All_Data.csv\", low_memory=False)"
   ]
  },
  {
   "cell_type": "code",
   "execution_count": 3,
   "id": "bcd18412",
   "metadata": {},
   "outputs": [
    {
     "data": {
      "text/html": [
       "<div>\n",
       "<style scoped>\n",
       "    .dataframe tbody tr th:only-of-type {\n",
       "        vertical-align: middle;\n",
       "    }\n",
       "\n",
       "    .dataframe tbody tr th {\n",
       "        vertical-align: top;\n",
       "    }\n",
       "\n",
       "    .dataframe thead th {\n",
       "        text-align: right;\n",
       "    }\n",
       "</style>\n",
       "<table border=\"1\" class=\"dataframe\">\n",
       "  <thead>\n",
       "    <tr style=\"text-align: right;\">\n",
       "      <th></th>\n",
       "      <th>Area Code</th>\n",
       "      <th>Area Code (M49)</th>\n",
       "      <th>Area</th>\n",
       "      <th>Item Code</th>\n",
       "      <th>Item Code (CPC)</th>\n",
       "      <th>Item</th>\n",
       "      <th>Element Code</th>\n",
       "      <th>Element</th>\n",
       "      <th>Unit</th>\n",
       "      <th>Y1961</th>\n",
       "      <th>...</th>\n",
       "      <th>Y2020N</th>\n",
       "      <th>Y2021</th>\n",
       "      <th>Y2021F</th>\n",
       "      <th>Y2021N</th>\n",
       "      <th>Y2022</th>\n",
       "      <th>Y2022F</th>\n",
       "      <th>Y2022N</th>\n",
       "      <th>Y2023</th>\n",
       "      <th>Y2023F</th>\n",
       "      <th>Y2023N</th>\n",
       "    </tr>\n",
       "  </thead>\n",
       "  <tbody>\n",
       "    <tr>\n",
       "      <th>0</th>\n",
       "      <td>2</td>\n",
       "      <td>'004</td>\n",
       "      <td>Afghanistan</td>\n",
       "      <td>221</td>\n",
       "      <td>'01371</td>\n",
       "      <td>Almonds, in shell</td>\n",
       "      <td>5312</td>\n",
       "      <td>Area harvested</td>\n",
       "      <td>ha</td>\n",
       "      <td>0.0</td>\n",
       "      <td>...</td>\n",
       "      <td>NaN</td>\n",
       "      <td>36862.0</td>\n",
       "      <td>A</td>\n",
       "      <td>NaN</td>\n",
       "      <td>36462.0</td>\n",
       "      <td>A</td>\n",
       "      <td>NaN</td>\n",
       "      <td>37000.0</td>\n",
       "      <td>A</td>\n",
       "      <td>NaN</td>\n",
       "    </tr>\n",
       "    <tr>\n",
       "      <th>1</th>\n",
       "      <td>2</td>\n",
       "      <td>'004</td>\n",
       "      <td>Afghanistan</td>\n",
       "      <td>221</td>\n",
       "      <td>'01371</td>\n",
       "      <td>Almonds, in shell</td>\n",
       "      <td>5412</td>\n",
       "      <td>Yield</td>\n",
       "      <td>kg/ha</td>\n",
       "      <td>NaN</td>\n",
       "      <td>...</td>\n",
       "      <td>NaN</td>\n",
       "      <td>1743.2</td>\n",
       "      <td>A</td>\n",
       "      <td>NaN</td>\n",
       "      <td>1742.0</td>\n",
       "      <td>A</td>\n",
       "      <td>NaN</td>\n",
       "      <td>1810.8</td>\n",
       "      <td>A</td>\n",
       "      <td>NaN</td>\n",
       "    </tr>\n",
       "  </tbody>\n",
       "</table>\n",
       "<p>2 rows × 198 columns</p>\n",
       "</div>"
      ],
      "text/plain": [
       "   Area Code Area Code (M49)         Area  Item Code Item Code (CPC)  \\\n",
       "0          2            '004  Afghanistan        221          '01371   \n",
       "1          2            '004  Afghanistan        221          '01371   \n",
       "\n",
       "                Item  Element Code         Element   Unit  Y1961  ... Y2020N  \\\n",
       "0  Almonds, in shell          5312  Area harvested     ha    0.0  ...    NaN   \n",
       "1  Almonds, in shell          5412           Yield  kg/ha    NaN  ...    NaN   \n",
       "\n",
       "     Y2021  Y2021F Y2021N    Y2022  Y2022F Y2022N    Y2023  Y2023F Y2023N  \n",
       "0  36862.0       A    NaN  36462.0       A    NaN  37000.0       A    NaN  \n",
       "1   1743.2       A    NaN   1742.0       A    NaN   1810.8       A    NaN  \n",
       "\n",
       "[2 rows x 198 columns]"
      ]
     },
     "execution_count": 3,
     "metadata": {},
     "output_type": "execute_result"
    }
   ],
   "source": [
    "df_all.head(2)"
   ]
  },
  {
   "cell_type": "code",
   "execution_count": 14,
   "id": "7a8e3ceb",
   "metadata": {},
   "outputs": [],
   "source": [
    "year_columns = [col for col in df_all.columns if col.startswith(\"Y\")]\n",
    "df_melted1= pd.melt(\n",
    "                   df_all,\n",
    "                   id_vars =['Area', 'Item'],\n",
    "                   )"
   ]
  },
  {
   "cell_type": "code",
   "execution_count": 17,
   "id": "d71303b8",
   "metadata": {},
   "outputs": [
    {
     "data": {
      "text/html": [
       "<div>\n",
       "<style scoped>\n",
       "    .dataframe tbody tr th:only-of-type {\n",
       "        vertical-align: middle;\n",
       "    }\n",
       "\n",
       "    .dataframe tbody tr th {\n",
       "        vertical-align: top;\n",
       "    }\n",
       "\n",
       "    .dataframe thead th {\n",
       "        text-align: right;\n",
       "    }\n",
       "</style>\n",
       "<table border=\"1\" class=\"dataframe\">\n",
       "  <thead>\n",
       "    <tr style=\"text-align: right;\">\n",
       "      <th></th>\n",
       "      <th>Area</th>\n",
       "      <th>Item</th>\n",
       "      <th>variable</th>\n",
       "      <th>value</th>\n",
       "    </tr>\n",
       "  </thead>\n",
       "  <tbody>\n",
       "    <tr>\n",
       "      <th>0</th>\n",
       "      <td>Afghanistan</td>\n",
       "      <td>Almonds, in shell</td>\n",
       "      <td>Area Code</td>\n",
       "      <td>2</td>\n",
       "    </tr>\n",
       "    <tr>\n",
       "      <th>1</th>\n",
       "      <td>Afghanistan</td>\n",
       "      <td>Almonds, in shell</td>\n",
       "      <td>Area Code</td>\n",
       "      <td>2</td>\n",
       "    </tr>\n",
       "    <tr>\n",
       "      <th>2</th>\n",
       "      <td>Afghanistan</td>\n",
       "      <td>Almonds, in shell</td>\n",
       "      <td>Area Code</td>\n",
       "      <td>2</td>\n",
       "    </tr>\n",
       "    <tr>\n",
       "      <th>3</th>\n",
       "      <td>Afghanistan</td>\n",
       "      <td>Anise, badian, coriander, cumin, caraway, fenn...</td>\n",
       "      <td>Area Code</td>\n",
       "      <td>2</td>\n",
       "    </tr>\n",
       "    <tr>\n",
       "      <th>4</th>\n",
       "      <td>Afghanistan</td>\n",
       "      <td>Anise, badian, coriander, cumin, caraway, fenn...</td>\n",
       "      <td>Area Code</td>\n",
       "      <td>2</td>\n",
       "    </tr>\n",
       "  </tbody>\n",
       "</table>\n",
       "</div>"
      ],
      "text/plain": [
       "          Area                                               Item   variable  \\\n",
       "0  Afghanistan                                  Almonds, in shell  Area Code   \n",
       "1  Afghanistan                                  Almonds, in shell  Area Code   \n",
       "2  Afghanistan                                  Almonds, in shell  Area Code   \n",
       "3  Afghanistan  Anise, badian, coriander, cumin, caraway, fenn...  Area Code   \n",
       "4  Afghanistan  Anise, badian, coriander, cumin, caraway, fenn...  Area Code   \n",
       "\n",
       "  value  \n",
       "0     2  \n",
       "1     2  \n",
       "2     2  \n",
       "3     2  \n",
       "4     2  "
      ]
     },
     "execution_count": 17,
     "metadata": {},
     "output_type": "execute_result"
    }
   ],
   "source": [
    "df_melted1.head(5)"
   ]
  },
  {
   "cell_type": "code",
   "execution_count": 24,
   "id": "09c686a8",
   "metadata": {},
   "outputs": [],
   "source": [
    "year_columns = [col for col in df_all.columns if col.startswith(\"Y\")]\n",
    "df_melted= pd.melt(\n",
    "                   df_all,\n",
    "                   id_vars =['Area', 'Item'],\n",
    "                   value_vars = year_columns,\n",
    "                   var_name = 'Year',\n",
    "                   value_name = 'Value')\n",
    "df_melted['Year'] = df_melted['Year'].str.extract(r'Y(\\d{4})')[0].astype(int)\n",
    "df_melted = df_melted.dropna(subset=['Value'])\n",
    "df_melted = df_melted[df_melted['Value'] != 0]"
   ]
  },
  {
   "cell_type": "code",
   "execution_count": 25,
   "id": "54d6c661",
   "metadata": {},
   "outputs": [
    {
     "data": {
      "text/html": [
       "<div>\n",
       "<style scoped>\n",
       "    .dataframe tbody tr th:only-of-type {\n",
       "        vertical-align: middle;\n",
       "    }\n",
       "\n",
       "    .dataframe tbody tr th {\n",
       "        vertical-align: top;\n",
       "    }\n",
       "\n",
       "    .dataframe thead th {\n",
       "        text-align: right;\n",
       "    }\n",
       "</style>\n",
       "<table border=\"1\" class=\"dataframe\">\n",
       "  <thead>\n",
       "    <tr style=\"text-align: right;\">\n",
       "      <th></th>\n",
       "      <th>Area</th>\n",
       "      <th>Item</th>\n",
       "      <th>Year</th>\n",
       "      <th>Value</th>\n",
       "    </tr>\n",
       "  </thead>\n",
       "  <tbody>\n",
       "    <tr>\n",
       "      <th>6</th>\n",
       "      <td>Afghanistan</td>\n",
       "      <td>Apples</td>\n",
       "      <td>1961</td>\n",
       "      <td>2220.0</td>\n",
       "    </tr>\n",
       "    <tr>\n",
       "      <th>7</th>\n",
       "      <td>Afghanistan</td>\n",
       "      <td>Apples</td>\n",
       "      <td>1961</td>\n",
       "      <td>6801.8</td>\n",
       "    </tr>\n",
       "    <tr>\n",
       "      <th>8</th>\n",
       "      <td>Afghanistan</td>\n",
       "      <td>Apples</td>\n",
       "      <td>1961</td>\n",
       "      <td>15100.0</td>\n",
       "    </tr>\n",
       "    <tr>\n",
       "      <th>9</th>\n",
       "      <td>Afghanistan</td>\n",
       "      <td>Apricots</td>\n",
       "      <td>1961</td>\n",
       "      <td>4820.0</td>\n",
       "    </tr>\n",
       "    <tr>\n",
       "      <th>10</th>\n",
       "      <td>Afghanistan</td>\n",
       "      <td>Apricots</td>\n",
       "      <td>1961</td>\n",
       "      <td>6639.0</td>\n",
       "    </tr>\n",
       "  </tbody>\n",
       "</table>\n",
       "</div>"
      ],
      "text/plain": [
       "           Area      Item  Year    Value\n",
       "6   Afghanistan    Apples  1961   2220.0\n",
       "7   Afghanistan    Apples  1961   6801.8\n",
       "8   Afghanistan    Apples  1961  15100.0\n",
       "9   Afghanistan  Apricots  1961   4820.0\n",
       "10  Afghanistan  Apricots  1961   6639.0"
      ]
     },
     "execution_count": 25,
     "metadata": {},
     "output_type": "execute_result"
    }
   ],
   "source": [
    "df_melted.head(5)"
   ]
  },
  {
   "cell_type": "code",
   "execution_count": 29,
   "id": "05fe4d71",
   "metadata": {},
   "outputs": [],
   "source": [
    "data_wheat = df_melted[df_melted['Item'] == 'Wheat']"
   ]
  },
  {
   "cell_type": "code",
   "execution_count": 36,
   "id": "fa6de3ef",
   "metadata": {},
   "outputs": [
    {
     "data": {
      "text/html": [
       "<div>\n",
       "<style scoped>\n",
       "    .dataframe tbody tr th:only-of-type {\n",
       "        vertical-align: middle;\n",
       "    }\n",
       "\n",
       "    .dataframe tbody tr th {\n",
       "        vertical-align: top;\n",
       "    }\n",
       "\n",
       "    .dataframe thead th {\n",
       "        text-align: right;\n",
       "    }\n",
       "</style>\n",
       "<table border=\"1\" class=\"dataframe\">\n",
       "  <thead>\n",
       "    <tr style=\"text-align: right;\">\n",
       "      <th></th>\n",
       "      <th>Area</th>\n",
       "      <th>Item</th>\n",
       "      <th>Year</th>\n",
       "      <th>Value</th>\n",
       "    </tr>\n",
       "  </thead>\n",
       "  <tbody>\n",
       "    <tr>\n",
       "      <th>189</th>\n",
       "      <td>Afghanistan</td>\n",
       "      <td>Wheat</td>\n",
       "      <td>1961</td>\n",
       "      <td>2230000.0</td>\n",
       "    </tr>\n",
       "    <tr>\n",
       "      <th>190</th>\n",
       "      <td>Afghanistan</td>\n",
       "      <td>Wheat</td>\n",
       "      <td>1961</td>\n",
       "      <td>1022.0</td>\n",
       "    </tr>\n",
       "    <tr>\n",
       "      <th>191</th>\n",
       "      <td>Afghanistan</td>\n",
       "      <td>Wheat</td>\n",
       "      <td>1961</td>\n",
       "      <td>2279000.0</td>\n",
       "    </tr>\n",
       "    <tr>\n",
       "      <th>524</th>\n",
       "      <td>Albania</td>\n",
       "      <td>Wheat</td>\n",
       "      <td>1961</td>\n",
       "      <td>126500.0</td>\n",
       "    </tr>\n",
       "    <tr>\n",
       "      <th>525</th>\n",
       "      <td>Albania</td>\n",
       "      <td>Wheat</td>\n",
       "      <td>1961</td>\n",
       "      <td>773.1</td>\n",
       "    </tr>\n",
       "  </tbody>\n",
       "</table>\n",
       "</div>"
      ],
      "text/plain": [
       "            Area   Item  Year      Value\n",
       "189  Afghanistan  Wheat  1961  2230000.0\n",
       "190  Afghanistan  Wheat  1961     1022.0\n",
       "191  Afghanistan  Wheat  1961  2279000.0\n",
       "524      Albania  Wheat  1961   126500.0\n",
       "525      Albania  Wheat  1961      773.1"
      ]
     },
     "execution_count": 36,
     "metadata": {},
     "output_type": "execute_result"
    }
   ],
   "source": [
    "data_wheat.head(5)"
   ]
  },
  {
   "cell_type": "code",
   "execution_count": 39,
   "id": "c0d47335",
   "metadata": {},
   "outputs": [],
   "source": [
    "data_wheat['Value'] = pd.to_numeric(data_wheat['Value'], errors = 'coerce') \n",
    "data_wheat = data_wheat.dropna(subset = 'Value')"
   ]
  },
  {
   "cell_type": "code",
   "execution_count": 40,
   "id": "f6c9b3ba",
   "metadata": {},
   "outputs": [
    {
     "data": {
      "text/html": [
       "<div>\n",
       "<style scoped>\n",
       "    .dataframe tbody tr th:only-of-type {\n",
       "        vertical-align: middle;\n",
       "    }\n",
       "\n",
       "    .dataframe tbody tr th {\n",
       "        vertical-align: top;\n",
       "    }\n",
       "\n",
       "    .dataframe thead th {\n",
       "        text-align: right;\n",
       "    }\n",
       "</style>\n",
       "<table border=\"1\" class=\"dataframe\">\n",
       "  <thead>\n",
       "    <tr style=\"text-align: right;\">\n",
       "      <th></th>\n",
       "      <th>Area</th>\n",
       "      <th>Item</th>\n",
       "      <th>Year</th>\n",
       "      <th>Value</th>\n",
       "    </tr>\n",
       "  </thead>\n",
       "  <tbody>\n",
       "    <tr>\n",
       "      <th>189</th>\n",
       "      <td>Afghanistan</td>\n",
       "      <td>Wheat</td>\n",
       "      <td>1961</td>\n",
       "      <td>2230000.0</td>\n",
       "    </tr>\n",
       "    <tr>\n",
       "      <th>190</th>\n",
       "      <td>Afghanistan</td>\n",
       "      <td>Wheat</td>\n",
       "      <td>1961</td>\n",
       "      <td>1022.0</td>\n",
       "    </tr>\n",
       "    <tr>\n",
       "      <th>191</th>\n",
       "      <td>Afghanistan</td>\n",
       "      <td>Wheat</td>\n",
       "      <td>1961</td>\n",
       "      <td>2279000.0</td>\n",
       "    </tr>\n",
       "    <tr>\n",
       "      <th>524</th>\n",
       "      <td>Albania</td>\n",
       "      <td>Wheat</td>\n",
       "      <td>1961</td>\n",
       "      <td>126500.0</td>\n",
       "    </tr>\n",
       "    <tr>\n",
       "      <th>525</th>\n",
       "      <td>Albania</td>\n",
       "      <td>Wheat</td>\n",
       "      <td>1961</td>\n",
       "      <td>773.1</td>\n",
       "    </tr>\n",
       "  </tbody>\n",
       "</table>\n",
       "</div>"
      ],
      "text/plain": [
       "            Area   Item  Year      Value\n",
       "189  Afghanistan  Wheat  1961  2230000.0\n",
       "190  Afghanistan  Wheat  1961     1022.0\n",
       "191  Afghanistan  Wheat  1961  2279000.0\n",
       "524      Albania  Wheat  1961   126500.0\n",
       "525      Albania  Wheat  1961      773.1"
      ]
     },
     "execution_count": 40,
     "metadata": {},
     "output_type": "execute_result"
    }
   ],
   "source": [
    "data_wheat.head(5)"
   ]
  },
  {
   "cell_type": "code",
   "execution_count": 44,
   "id": "d399cede",
   "metadata": {},
   "outputs": [],
   "source": [
    "trend_wheat = data_wheat.groupby('Year')['Value'].sum().reset_index()"
   ]
  },
  {
   "cell_type": "code",
   "execution_count": 45,
   "id": "e4b783d6",
   "metadata": {},
   "outputs": [
    {
     "data": {
      "text/html": [
       "<div>\n",
       "<style scoped>\n",
       "    .dataframe tbody tr th:only-of-type {\n",
       "        vertical-align: middle;\n",
       "    }\n",
       "\n",
       "    .dataframe tbody tr th {\n",
       "        vertical-align: top;\n",
       "    }\n",
       "\n",
       "    .dataframe thead th {\n",
       "        text-align: right;\n",
       "    }\n",
       "</style>\n",
       "<table border=\"1\" class=\"dataframe\">\n",
       "  <thead>\n",
       "    <tr style=\"text-align: right;\">\n",
       "      <th></th>\n",
       "      <th>Year</th>\n",
       "      <th>Value</th>\n",
       "    </tr>\n",
       "  </thead>\n",
       "  <tbody>\n",
       "    <tr>\n",
       "      <th>0</th>\n",
       "      <td>1961</td>\n",
       "      <td>1.857128e+09</td>\n",
       "    </tr>\n",
       "    <tr>\n",
       "      <th>1</th>\n",
       "      <td>1962</td>\n",
       "      <td>1.996708e+09</td>\n",
       "    </tr>\n",
       "    <tr>\n",
       "      <th>2</th>\n",
       "      <td>1963</td>\n",
       "      <td>1.916451e+09</td>\n",
       "    </tr>\n",
       "    <tr>\n",
       "      <th>3</th>\n",
       "      <td>1964</td>\n",
       "      <td>2.111769e+09</td>\n",
       "    </tr>\n",
       "    <tr>\n",
       "      <th>4</th>\n",
       "      <td>1965</td>\n",
       "      <td>2.103867e+09</td>\n",
       "    </tr>\n",
       "    <tr>\n",
       "      <th>...</th>\n",
       "      <td>...</td>\n",
       "      <td>...</td>\n",
       "    </tr>\n",
       "    <tr>\n",
       "      <th>58</th>\n",
       "      <td>2019</td>\n",
       "      <td>4.415106e+09</td>\n",
       "    </tr>\n",
       "    <tr>\n",
       "      <th>59</th>\n",
       "      <td>2020</td>\n",
       "      <td>4.410664e+09</td>\n",
       "    </tr>\n",
       "    <tr>\n",
       "      <th>60</th>\n",
       "      <td>2021</td>\n",
       "      <td>4.495068e+09</td>\n",
       "    </tr>\n",
       "    <tr>\n",
       "      <th>61</th>\n",
       "      <td>2022</td>\n",
       "      <td>4.630301e+09</td>\n",
       "    </tr>\n",
       "    <tr>\n",
       "      <th>62</th>\n",
       "      <td>2023</td>\n",
       "      <td>4.587678e+09</td>\n",
       "    </tr>\n",
       "  </tbody>\n",
       "</table>\n",
       "<p>63 rows × 2 columns</p>\n",
       "</div>"
      ],
      "text/plain": [
       "    Year         Value\n",
       "0   1961  1.857128e+09\n",
       "1   1962  1.996708e+09\n",
       "2   1963  1.916451e+09\n",
       "3   1964  2.111769e+09\n",
       "4   1965  2.103867e+09\n",
       "..   ...           ...\n",
       "58  2019  4.415106e+09\n",
       "59  2020  4.410664e+09\n",
       "60  2021  4.495068e+09\n",
       "61  2022  4.630301e+09\n",
       "62  2023  4.587678e+09\n",
       "\n",
       "[63 rows x 2 columns]"
      ]
     },
     "execution_count": 45,
     "metadata": {},
     "output_type": "execute_result"
    }
   ],
   "source": [
    "trend_wheat"
   ]
  },
  {
   "cell_type": "code",
   "execution_count": 50,
   "id": "9574a2ce",
   "metadata": {},
   "outputs": [],
   "source": [
    "import matplotlib.pyplot as plt\n",
    "import seaborn as sns"
   ]
  },
  {
   "cell_type": "code",
   "execution_count": 59,
   "id": "ca6b6fd0",
   "metadata": {},
   "outputs": [
    {
     "data": {
      "image/png": "[encoded data removed]",
      "text/plain": [
       "<Figure size 1000x500 with 1 Axes>"
      ]
     },
     "metadata": {},
     "output_type": "display_data"
    }
   ],
   "source": [
    "#plt.figure(figsize=(10, 5))\n",
    "plt.figure(figsize=(10, 5))\n",
    "sns.lineplot(data= trend_wheat, x = 'Year', y= 'Value')\n",
    "plt.title('Global Wheat Production over Time')\n",
    "plt.xlabel('Year')\n",
    "plt.ylabel('Production(tones)')\n",
    "plt.grid(True)\n",
    "plt.show()"
   ]
  },
  {
   "cell_type": "code",
   "execution_count": null,
   "id": "a0f28789",
   "metadata": {},
   "outputs": [],
   "source": []
  }
 ],
 "metadata": {
  "kernelspec": {
   "display_name": "Python 3 (ipykernel)",
   "language": "python",
   "name": "python3"
  },
  "language_info": {
   "codemirror_mode": {
    "name": "ipython",
    "version": 3
   },
   "file_extension": ".py",
   "mimetype": "text/x-python",
   "name": "python",
   "nbconvert_exporter": "python",
   "pygments_lexer": "ipython3",
   "version": "3.9.18"
  }
 },
 "nbformat": 4,
 "nbformat_minor": 5
}
