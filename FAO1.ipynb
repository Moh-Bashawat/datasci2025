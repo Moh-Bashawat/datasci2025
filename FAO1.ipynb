{
 "cells": [
  {
   "cell_type": "markdown",
   "id": "0705121f",
   "metadata": {},
   "source": [
    "## 1. Upload the Data\n",
    "## 2. Cleaning missing data\n",
    "## 3. Standarizing crop/country names\n",
    "## 4. Handing outliers\n",
    "## 5. Plotting trends"
   ]
  },
  {
   "cell_type": "markdown",
   "id": "d8cf1556",
   "metadata": {},
   "source": [
    "!dir"
   ]
  },
  {
   "cell_type": "code",
   "execution_count": null,
   "id": "cfefc8aa",
   "metadata": {},
   "outputs": [],
   "source": [
    "!ls"
   ]
  },
  {
   "cell_type": "code",
   "execution_count": null,
   "id": "40736ceb",
   "metadata": {},
   "outputs": [],
   "source": [
    "import pandas as pd"
   ]
  },
  {
   "cell_type": "code",
   "execution_count": null,
   "id": "7ccee058",
   "metadata": {},
   "outputs": [],
   "source": [
    "df_all = pd.read_csv('Production_Crops_Livestock_E_All_Data.csv', low_memory=False)"
   ]
  },
  {
   "cell_type": "code",
   "execution_count": null,
   "id": "3afe53f4",
   "metadata": {},
   "outputs": [],
   "source": [
    "df_all.shape"
   ]
  },
  {
   "cell_type": "code",
   "execution_count": null,
   "id": "7e74fcf2",
   "metadata": {},
   "outputs": [],
   "source": [
    "df_all.columns"
   ]
  },
  {
   "cell_type": "code",
   "execution_count": null,
   "id": "4b0e4b5f",
   "metadata": {},
   "outputs": [],
   "source": [
    "df_all.head(10)"
   ]
  },
  {
   "cell_type": "code",
   "execution_count": null,
   "id": "f8703dbd",
   "metadata": {},
   "outputs": [],
   "source": [
    "print(df_all['Unit'].unique())"
   ]
  },
  {
   "cell_type": "code",
   "execution_count": null,
   "id": "3ad1dd18",
   "metadata": {},
   "outputs": [],
   "source": [
    "len(df_all['Area'].unique())"
   ]
  },
  {
   "cell_type": "code",
   "execution_count": null,
   "id": "2f09c943",
   "metadata": {},
   "outputs": [],
   "source": [
    "print(df_all['Area'].unique())"
   ]
  },
  {
   "cell_type": "code",
   "execution_count": null,
   "id": "b016da69",
   "metadata": {},
   "outputs": [],
   "source": [
    "print(df_all['Element'].unique())"
   ]
  },
  {
   "cell_type": "code",
   "execution_count": null,
   "id": "91bc6eb6",
   "metadata": {},
   "outputs": [],
   "source": [
    "## check missing data; Quick summary of nulls per column\n",
    "df_all.isnull().sum()"
   ]
  },
  {
   "cell_type": "code",
   "execution_count": null,
   "id": "15d7ad35",
   "metadata": {},
   "outputs": [],
   "source": [
    "# Percentage of missing values per column\n",
    "print((df_all.isnull().mean()*100).round(2))"
   ]
  },
  {
   "cell_type": "code",
   "execution_count": null,
   "id": "1ad896b7",
   "metadata": {},
   "outputs": [],
   "source": [
    "df_all = df_all.dropna(subset=['Area Code', 'Area Code (M49)', 'Area'])"
   ]
  },
  {
   "cell_type": "code",
   "execution_count": null,
   "id": "ba5bb757",
   "metadata": {},
   "outputs": [],
   "source": [
    "df_all.columns"
   ]
  },
  {
   "cell_type": "code",
   "execution_count": null,
   "id": "63ebdd41",
   "metadata": {},
   "outputs": [],
   "source": [
    "df_all['Unit'] = df_all['Unit'].fillna('unknown')"
   ]
  },
  {
   "cell_type": "code",
   "execution_count": null,
   "id": "c0433547",
   "metadata": {},
   "outputs": [],
   "source": [
    "##3.Standarizing crop/country names\n",
    "df_all['Area'].unique()"
   ]
  },
  {
   "cell_type": "code",
   "execution_count": null,
   "id": "3805c607",
   "metadata": {},
   "outputs": [],
   "source": [
    "country_list ={\n",
    "    'Syrian Arab Republic' : 'Syria',\n",
    "    'Venezuela (Bolivarian Republic Of)': 'Venezuela',\n",
    "    'United Republic Of Tanzania': 'Tanzania',\n",
    "    'Netherlands (Kingdom Of The)' : 'Netherlands'\n",
    "     }"
   ]
  },
  {
   "cell_type": "code",
   "execution_count": null,
   "id": "45a52c98",
   "metadata": {},
   "outputs": [],
   "source": [
    "df_all['Area'] = df_all['Area'].replace(country_list)"
   ]
  },
  {
   "cell_type": "code",
   "execution_count": null,
   "id": "913ef61a",
   "metadata": {},
   "outputs": [],
   "source": [
    "print(df_all['Area'])"
   ]
  },
  {
   "cell_type": "code",
   "execution_count": null,
   "id": "75b07fbc",
   "metadata": {},
   "outputs": [],
   "source": [
    "df_all['Item'].unique()"
   ]
  },
  {
   "cell_type": "code",
   "execution_count": null,
   "id": "47f5e062",
   "metadata": {},
   "outputs": [],
   "source": [
    "#  Handle outliers:\n",
    "from scipy import stats"
   ]
  },
  {
   "cell_type": "code",
   "execution_count": null,
   "id": "2be5161e",
   "metadata": {},
   "outputs": [],
   "source": [
    "print(df_all.columns.tolist())"
   ]
  },
  {
   "cell_type": "code",
   "execution_count": null,
   "id": "95d94659",
   "metadata": {},
   "outputs": [],
   "source": [
    "df_head=df_all.head(10)"
   ]
  },
  {
   "cell_type": "code",
   "execution_count": null,
   "id": "d7ea3a27",
   "metadata": {},
   "outputs": [],
   "source": [
    "df_head = pd.melt(\n",
    "                  df_all, \n",
    "                  id_vars=['Area','Item', 'Element', 'Unit'],\n",
    "                  var_name='Year',\n",
    "                  value_name='Value')"
   ]
  },
  {
   "cell_type": "code",
   "execution_count": null,
   "id": "7c2d39ba",
   "metadata": {},
   "outputs": [],
   "source": [
    "df_head"
   ]
  },
  {
   "cell_type": "code",
   "execution_count": null,
   "id": "966e3e06",
   "metadata": {},
   "outputs": [],
   "source": [
    "ls"
   ]
  },
  {
   "cell_type": "code",
   "execution_count": null,
   "id": "10a5a611",
   "metadata": {},
   "outputs": [],
   "source": [
    "import pandas as pd"
   ]
  },
  {
   "cell_type": "code",
   "execution_count": null,
   "id": "92d23da7",
   "metadata": {},
   "outputs": [],
   "source": [
    "df_all=pd.read_csv(\"Production_Crops_Livestock_E_All_Data.csv\", low_memory=False)"
   ]
  },
  {
   "cell_type": "code",
   "execution_count": null,
   "id": "bcd18412",
   "metadata": {},
   "outputs": [],
   "source": [
    "df_all.head(2)"
   ]
  },
  {
   "cell_type": "code",
   "execution_count": null,
   "id": "c72ad236",
   "metadata": {},
   "outputs": [],
   "source": [
    "year_columns = [col for col in df_all.columns if col.startswith(\"Y\")]\n",
    "df_melted1= pd.melt(\n",
    "                   df_all,\n",
    "                   id_vars =['Area', 'Item'],\n",
    "                   )"
   ]
  },
  {
   "cell_type": "code",
   "execution_count": null,
   "id": "661d309e",
   "metadata": {},
   "outputs": [],
   "source": [
    "df_melted1.head(5)"
   ]
  },
  {
   "cell_type": "code",
   "execution_count": null,
   "id": "e8b0842d",
   "metadata": {},
   "outputs": [],
   "source": [
    "year_columns = [col for col in df_all.columns if col.startswith(\"Y\")]\n",
    "df_melted= pd.melt(\n",
    "                   df_all,\n",
    "                   id_vars =['Area', 'Item'],\n",
    "                   value_vars = year_columns,\n",
    "                   var_name = 'Year',\n",
    "                   value_name = 'Value')\n",
    "df_melted['Year'] = df_melted['Year'].str.extract(r'Y(\\d{4})')[0].astype(int)\n",
    "df_melted = df_melted.dropna(subset=['Value'])\n",
    "df_melted = df_melted[df_melted['Value'] != 0]"
   ]
  },
  {
   "cell_type": "code",
   "execution_count": null,
   "id": "b451037a",
   "metadata": {},
   "outputs": [],
   "source": [
    "df_melted.head(5)"
   ]
  },
  {
   "cell_type": "code",
   "execution_count": null,
   "id": "138538b5",
   "metadata": {},
   "outputs": [],
   "source": [
    "data_wheat = df_melted[df_melted['Item'] == 'Wheat']"
   ]
  },
  {
   "cell_type": "code",
   "execution_count": null,
   "id": "a7a92297",
   "metadata": {},
   "outputs": [],
   "source": [
    "data_wheat.head(5)"
   ]
  },
  {
   "cell_type": "code",
   "execution_count": null,
   "id": "a4ad2cfa",
   "metadata": {},
   "outputs": [],
   "source": [
    "data_wheat['Value'] = pd.to_numeric(data_wheat['Value'], errors = 'coerce') \n",
    "data_wheat = data_wheat.dropna(subset = 'Value')"
   ]
  },
  {
   "cell_type": "code",
   "execution_count": null,
   "id": "979b2727",
   "metadata": {},
   "outputs": [],
   "source": [
    "data_wheat.head(5)"
   ]
  },
  {
   "cell_type": "code",
   "execution_count": null,
   "id": "6bf3b317",
   "metadata": {},
   "outputs": [],
   "source": [
    "trend_wheat = data_wheat.groupby('Year')['Value'].sum().reset_index()"
   ]
  },
  {
   "cell_type": "code",
   "execution_count": null,
   "id": "d77f9949",
   "metadata": {},
   "outputs": [],
   "source": [
    "trend_wheat"
   ]
  },
  {
   "cell_type": "code",
   "execution_count": null,
   "id": "9574a2ce",
   "metadata": {},
   "outputs": [],
   "source": [
    "import matplotlib.pyplot as plt\n",
    "import seaborn as sns"
   ]
  },
  {
   "cell_type": "code",
   "execution_count": null,
   "id": "ca6b6fd0",
   "metadata": {},
   "outputs": [],
   "source": [
    "#plt.figure(figsize=(10, 5))\n",
    "plt.figure(figsize=(10, 5))\n",
    "sns.lineplot(data= trend_wheat, x = 'Year', y= 'Value')\n",
    "plt.title('Global Wheat Production over Time')\n",
    "plt.xlabel('Year')\n",
    "plt.ylabel('Production(tones)')\n",
    "plt.grid(True)\n",
    "plt.show()"
   ]
  },
  {
   "cell_type": "code",
   "execution_count": null,
   "id": "a0f28789",
   "metadata": {},
   "outputs": [],
   "source": [
    "ls"
   ]
  },
  {
   "cell_type": "code",
   "execution_count": null,
   "id": "aaa3b077",
   "metadata": {},
   "outputs": [],
   "source": [
    "df_all.head(5)"
   ]
  },
  {
   "cell_type": "code",
   "execution_count": null,
   "id": "801be1c1",
   "metadata": {},
   "outputs": [],
   "source": [
    "# reshape the data (wide –––––––––> long format):\n",
    "df_all['Element'].unique"
   ]
  },
  {
   "cell_type": "code",
   "execution_count": null,
   "id": "0c9c5438",
   "metadata": {},
   "outputs": [],
   "source": [
    "data_wheat = df_all[\n",
    "    (df_all['Item'] == 'Wheat')&\n",
    "    (df_all['Element'] == 'Production')\n",
    "]\n",
    "# melt the year columns into one:\n",
    "year_columns = [col for col in data_wheat.columns if col.startswith(\"Y\")]\n",
    "wheat_long= pd.melt(\n",
    "                    data_wheat,\n",
    "                    id_vars= ['Area', 'Item', 'Element', 'Unit'],\n",
    "                    value_vars = year_columns,\n",
    "                    var_name = 'Year',\n",
    "                    value_name = 'Value')\n",
    "wheat_long[\"Year\"] = wheat_long[\"Year\"].str.extract(r\"(\\d{4})\").astype(int)\n",
    "wheat_long = wheat_long.dropna(subset = 'Value')"
   ]
  },
  {
   "cell_type": "code",
   "execution_count": null,
   "id": "0c5b3d20",
   "metadata": {},
   "outputs": [],
   "source": [
    "print(wheat_long['Value'].dtype)"
   ]
  },
  {
   "cell_type": "code",
   "execution_count": null,
   "id": "45482af8",
   "metadata": {},
   "outputs": [],
   "source": [
    "wheat_long['Value'] = pd.to_numeric(wheat_long['Value'], errors = 'coerce')"
   ]
  },
  {
   "cell_type": "code",
   "execution_count": null,
   "id": "bca8aa2c",
   "metadata": {},
   "outputs": [],
   "source": [
    "import matplotlib.pyplot as plt\n",
    "import seaborn as sns"
   ]
  },
  {
   "cell_type": "code",
   "execution_count": null,
   "id": "99e02f23",
   "metadata": {},
   "outputs": [],
   "source": [
    "plt.figure(figsize=(12, 6))\n",
    "sns.lineplot(data = wheat_long.groupby('Year')['Value'].sum().reset_index(), x = 'Year', \n",
    "             y= 'Value')\n",
    "plt.title('Global wheat production over Time')\n",
    "plt.ylabel(' Production(tonnes')\n",
    "plt.xlabel('Year')\n",
    "plt.tight_layout()\n",
    "plt.show()"
   ]
  },
  {
   "cell_type": "code",
   "execution_count": null,
   "id": "38b6e6c6",
   "metadata": {},
   "outputs": [],
   "source": [
    "# identify top 10 wheat producers in 2022\n",
    "wheat_2022 = wheat_long[wheat_long['Year'] == 2022]\n",
    "top_countries = wheat_2022.groupby('Area')['Value'].sum().sort_values(ascending = False).head(20)\n",
    "plt.figure(figsize=(12, 6))\n",
    "sns.barplot(x= top_countries.values, y= top_countries.index, palette='viridis')\n",
    "plt.tight_layout()"
   ]
  },
  {
   "cell_type": "code",
   "execution_count": null,
   "id": "34b3fe11",
   "metadata": {},
   "outputs": [],
   "source": [
    "top_countries"
   ]
  },
  {
   "cell_type": "code",
   "execution_count": null,
   "id": "006504f5",
   "metadata": {},
   "outputs": [],
   "source": [
    "wheat_2022 "
   ]
  },
  {
   "cell_type": "code",
   "execution_count": null,
   "id": "0e527fa8",
   "metadata": {},
   "outputs": [],
   "source": [
    "wheat_long"
   ]
  },
  {
   "cell_type": "code",
   "execution_count": null,
   "id": "2bbd9363",
   "metadata": {},
   "outputs": [],
   "source": [
    "# compare yieled (production/area) across regions:\n",
    "df_all['Element'] == 'Production'"
   ]
  },
  {
   "cell_type": "code",
   "execution_count": null,
   "id": "d8e0d0ba",
   "metadata": {},
   "outputs": [],
   "source": [
    "# delete and handle duplicates:\n",
    "duplicates = df_all.duplicated()\n",
    "print(f\"Number of dublicated rows: {duplicates.sum()}\")"
   ]
  },
  {
   "cell_type": "code",
   "execution_count": null,
   "id": "a80325ac",
   "metadata": {},
   "outputs": [],
   "source": [
    "# remove dublicated rows:\n",
    "df_all= df_all.drop_duplicates(subset=[\"Area\", \"Item\", \"Element\"])\n",
    "#df_all"
   ]
  },
  {
   "cell_type": "code",
   "execution_count": null,
   "id": "9bc67460",
   "metadata": {},
   "outputs": [],
   "source": [
    "#fix mixed data:\n",
    "year_cols = [col for col in df_all.columns if col.startswith(\"Y\") and col[1:5].isdigit()]\n",
    "id_cols= ['Area', 'Item', 'Element', 'Unit']\n",
    "df_all_clean= df_all[id_cols + year_cols]"
   ]
  },
  {
   "cell_type": "code",
   "execution_count": null,
   "id": "7da01ca2",
   "metadata": {},
   "outputs": [],
   "source": [
    "df_all.head(1)"
   ]
  },
  {
   "cell_type": "code",
   "execution_count": null,
   "id": "00dbcbb0",
   "metadata": {},
   "outputs": [],
   "source": [
    "df_all.head(2)"
   ]
  },
  {
   "cell_type": "code",
   "execution_count": null,
   "id": "fd312a4f",
   "metadata": {},
   "outputs": [],
   "source": [
    "#Convert year columns to proper long foramt:\n",
    "year_columns =  [col for col in df_all.columns if col.startswith(\"Y\")]\n",
    "df_all_long= pd.melt(\n",
    "                      df_all,\n",
    "                     id_vars = [\"Area\", \"Item\", \"Element\", \"Unit\"],\n",
    "                     value_vars = year_columns, \n",
    "                     var_name = \"Year\")\n",
    "df_all_long[\"Year\"] = df_all_long[\"Year\"].str.extract(r'Y(\\d{4})')[0].astype(int)\n"
   ]
  },
  {
   "cell_type": "code",
   "execution_count": null,
   "id": "06bfeab8",
   "metadata": {},
   "outputs": [],
   "source": [
    "df_all_long= df_all_long.dropna(subset= 'value')\n",
    "df_all_long = df_all_long[df_all_long['value'] != 0]"
   ]
  },
  {
   "cell_type": "code",
   "execution_count": null,
   "id": "f624c26e",
   "metadata": {},
   "outputs": [],
   "source": [
    "df_melted['Year'] = df_melted['Year'].str.extract(r'Y(\\d{4})')[0].astype(int)\n",
    "df_melted = df_melted.dropna(subset=['Value'])\n",
    "df_melted = df_melted[df_melted['Value'] != 0]"
   ]
  },
  {
   "cell_type": "code",
   "execution_count": null,
   "id": "c2bb78b0",
   "metadata": {},
   "outputs": [],
   "source": [
    "df_all_long"
   ]
  },
  {
   "cell_type": "code",
   "execution_count": null,
   "id": "df0624da",
   "metadata": {},
   "outputs": [],
   "source": [
    "print(df_all_long['value'].dtype)"
   ]
  },
  {
   "cell_type": "code",
   "execution_count": null,
   "id": "72fdd02c",
   "metadata": {},
   "outputs": [],
   "source": [
    "df_all_long['value'] = pd.to_numeric(df_all_long['value'], errors = 'coerce')"
   ]
  },
  {
   "cell_type": "code",
   "execution_count": null,
   "id": "4e030c6c",
   "metadata": {},
   "outputs": [],
   "source": [
    "df_all_long"
   ]
  },
  {
   "cell_type": "code",
   "execution_count": null,
   "id": "881a9aa0",
   "metadata": {},
   "outputs": [],
   "source": [
    "Q1= df_all_long['value'].quantile(0.25)\n",
    "Q3= df_all_long['value'].quantile(0.75)\n",
    "IQR = Q3-Q1"
   ]
  },
  {
   "cell_type": "code",
   "execution_count": null,
   "id": "74eef31c",
   "metadata": {},
   "outputs": [],
   "source": [
    "IQR"
   ]
  },
  {
   "cell_type": "code",
   "execution_count": null,
   "id": "14f85d6c",
   "metadata": {},
   "outputs": [],
   "source": [
    "lower_bound = Q1-1.5*IQR\n",
    "upper_bound = Q3+1.5*IQR"
   ]
  },
  {
   "cell_type": "code",
   "execution_count": null,
   "id": "7e76c800",
   "metadata": {},
   "outputs": [],
   "source": [
    "lower_bound"
   ]
  },
  {
   "cell_type": "code",
   "execution_count": null,
   "id": "05d1c15b",
   "metadata": {},
   "outputs": [],
   "source": [
    "upper_bound"
   ]
  },
  {
   "cell_type": "code",
   "execution_count": null,
   "id": "9862d011",
   "metadata": {},
   "outputs": [],
   "source": [
    "# missing values interpolate or fill:\n",
    "df_all_long['value']= df_all_long.groupby(['Area', 'Item'])['value'].transform(lambda x:x.ffill().bfill())"
   ]
  },
  {
   "cell_type": "code",
   "execution_count": null,
   "id": "8f405ac4",
   "metadata": {},
   "outputs": [],
   "source": [
    "df_all_long"
   ]
  },
  {
   "cell_type": "code",
   "execution_count": null,
   "id": "1ba40bda",
   "metadata": {},
   "outputs": [],
   "source": []
  }
 ],
 "metadata": {
  "kernelspec": {
   "display_name": "Python 3 (ipykernel)",
   "language": "python",
   "name": "python3"
  },
  "language_info": {
   "codemirror_mode": {
    "name": "ipython",
    "version": 3
   },
   "file_extension": ".py",
   "mimetype": "text/x-python",
   "name": "python",
   "nbconvert_exporter": "python",
   "pygments_lexer": "ipython3",
   "version": "3.9.18"
  }
 },
 "nbformat": 4,
 "nbformat_minor": 5
}
