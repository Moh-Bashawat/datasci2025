{
 "cells": [
  {
   "cell_type": "markdown",
   "id": "0705121f",
   "metadata": {},
   "source": [
    "## 1. Upload the Data\n",
    "## 2. Cleaning missing data\n",
    "## 3. Standarizing crop/country names\n",
    "## 4. Handing outliers\n",
    "## 5. Plotting trends"
   ]
  },
  {
   "cell_type": "markdown",
   "id": "d8cf1556",
   "metadata": {},
   "source": [
    "!dir"
   ]
  },
  {
   "cell_type": "code",
   "execution_count": null,
   "id": "cfefc8aa",
   "metadata": {},
   "outputs": [],
   "source": [
    "!ls"
   ]
  },
  {
   "cell_type": "code",
   "execution_count": null,
   "id": "40736ceb",
   "metadata": {},
   "outputs": [],
   "source": [
    "import pandas as pd"
   ]
  },
  {
   "cell_type": "code",
   "execution_count": null,
   "id": "7ccee058",
   "metadata": {},
   "outputs": [],
   "source": [
    "df_all = pd.read_csv('Production_Crops_Livestock_E_All_Data.csv', low_memory=False)"
   ]
  },
  {
   "cell_type": "code",
   "execution_count": null,
   "id": "3afe53f4",
   "metadata": {},
   "outputs": [],
   "source": [
    "df_all.shape"
   ]
  },
  {
   "cell_type": "code",
   "execution_count": null,
   "id": "7e74fcf2",
   "metadata": {},
   "outputs": [],
   "source": [
    "df_all.columns"
   ]
  },
  {
   "cell_type": "code",
   "execution_count": null,
   "id": "4b0e4b5f",
   "metadata": {},
   "outputs": [],
   "source": [
    "df_all.head(10)"
   ]
  },
  {
   "cell_type": "code",
   "execution_count": null,
   "id": "f8703dbd",
   "metadata": {},
   "outputs": [],
   "source": [
    "print(df_all['Unit'].unique())"
   ]
  },
  {
   "cell_type": "code",
   "execution_count": null,
   "id": "3ad1dd18",
   "metadata": {},
   "outputs": [],
   "source": [
    "len(df_all['Area'].unique())"
   ]
  },
  {
   "cell_type": "code",
   "execution_count": null,
   "id": "2f09c943",
   "metadata": {},
   "outputs": [],
   "source": [
    "print(df_all['Area'].unique())"
   ]
  },
  {
   "cell_type": "code",
   "execution_count": null,
   "id": "b016da69",
   "metadata": {},
   "outputs": [],
   "source": [
    "print(df_all['Element'].unique())"
   ]
  },
  {
   "cell_type": "code",
   "execution_count": null,
   "id": "91bc6eb6",
   "metadata": {},
   "outputs": [],
   "source": [
    "## check missing data; Quick summary of nulls per column\n",
    "df_all.isnull().sum()"
   ]
  },
  {
   "cell_type": "code",
   "execution_count": null,
   "id": "15d7ad35",
   "metadata": {},
   "outputs": [],
   "source": [
    "# Percentage of missing values per column\n",
    "print((df_all.isnull().mean()*100).round(2))"
   ]
  },
  {
   "cell_type": "code",
   "execution_count": null,
   "id": "1ad896b7",
   "metadata": {},
   "outputs": [],
   "source": [
    "df_all = df_all.dropna(subset=['Area Code', 'Area Code (M49)', 'Area'])"
   ]
  },
  {
   "cell_type": "code",
   "execution_count": null,
   "id": "ba5bb757",
   "metadata": {},
   "outputs": [],
   "source": [
    "df_all.columns"
   ]
  },
  {
   "cell_type": "code",
   "execution_count": null,
   "id": "63ebdd41",
   "metadata": {},
   "outputs": [],
   "source": [
    "df_all['Unit'] = df_all['Unit'].fillna('unknown')"
   ]
  },
  {
   "cell_type": "code",
   "execution_count": null,
   "id": "c0433547",
   "metadata": {},
   "outputs": [],
   "source": [
    "##3.Standarizing crop/country names\n",
    "df_all['Area'].unique()"
   ]
  },
  {
   "cell_type": "code",
   "execution_count": null,
   "id": "3805c607",
   "metadata": {},
   "outputs": [],
   "source": [
    "country_list ={\n",
    "    'Syrian Arab Republic' : 'Syria',\n",
    "    'Venezuela (Bolivarian Republic Of)': 'Venezuela',\n",
    "    'United Republic Of Tanzania': 'Tanzania',\n",
    "    'Netherlands (Kingdom Of The)' : 'Netherlands'\n",
    "     }"
   ]
  },
  {
   "cell_type": "code",
   "execution_count": null,
   "id": "45a52c98",
   "metadata": {},
   "outputs": [],
   "source": [
    "df_all['Area'] = df_all['Area'].replace(country_list)"
   ]
  },
  {
   "cell_type": "code",
   "execution_count": null,
   "id": "913ef61a",
   "metadata": {},
   "outputs": [],
   "source": [
    "print(df_all['Area'])"
   ]
  },
  {
   "cell_type": "code",
   "execution_count": null,
   "id": "75b07fbc",
   "metadata": {},
   "outputs": [],
   "source": [
    "df_all['Item'].unique()"
   ]
  },
  {
   "cell_type": "code",
   "execution_count": null,
   "id": "47f5e062",
   "metadata": {},
   "outputs": [],
   "source": [
    "#  Handle outliers:\n",
    "from scipy import stats"
   ]
  },
  {
   "cell_type": "code",
   "execution_count": null,
   "id": "2be5161e",
   "metadata": {},
   "outputs": [],
   "source": [
    "print(df_all.columns.tolist())"
   ]
  },
  {
   "cell_type": "code",
   "execution_count": null,
   "id": "95d94659",
   "metadata": {},
   "outputs": [],
   "source": [
    "df_head=df_all.head(10)"
   ]
  },
  {
   "cell_type": "code",
   "execution_count": null,
   "id": "d7ea3a27",
   "metadata": {},
   "outputs": [],
   "source": [
    "df_head = pd.melt(\n",
    "                  df_all, \n",
    "                  id_vars=['Area','Item', 'Element', 'Unit'],\n",
    "                  var_name='Year',\n",
    "                  value_name='Value')"
   ]
  },
  {
   "cell_type": "code",
   "execution_count": null,
   "id": "7c2d39ba",
   "metadata": {},
   "outputs": [],
   "source": [
    "df_head"
   ]
  },
  {
   "cell_type": "code",
   "execution_count": null,
   "id": "966e3e06",
   "metadata": {},
   "outputs": [],
   "source": [
    "ls"
   ]
  },
  {
   "cell_type": "code",
   "execution_count": 1,
   "id": "10a5a611",
   "metadata": {},
   "outputs": [],
   "source": [
    "import pandas as pd"
   ]
  },
  {
   "cell_type": "code",
   "execution_count": 2,
   "id": "92d23da7",
   "metadata": {},
   "outputs": [],
   "source": [
    "df_all=pd.read_csv(\"Production_Crops_Livestock_E_All_Data.csv\", low_memory=False)"
   ]
  },
  {
   "cell_type": "code",
   "execution_count": 3,
   "id": "bcd18412",
   "metadata": {},
   "outputs": [
    {
     "data": {
      "text/html": [
       "<div>\n",
       "<style scoped>\n",
       "    .dataframe tbody tr th:only-of-type {\n",
       "        vertical-align: middle;\n",
       "    }\n",
       "\n",
       "    .dataframe tbody tr th {\n",
       "        vertical-align: top;\n",
       "    }\n",
       "\n",
       "    .dataframe thead th {\n",
       "        text-align: right;\n",
       "    }\n",
       "</style>\n",
       "<table border=\"1\" class=\"dataframe\">\n",
       "  <thead>\n",
       "    <tr style=\"text-align: right;\">\n",
       "      <th></th>\n",
       "      <th>Area Code</th>\n",
       "      <th>Area Code (M49)</th>\n",
       "      <th>Area</th>\n",
       "      <th>Item Code</th>\n",
       "      <th>Item Code (CPC)</th>\n",
       "      <th>Item</th>\n",
       "      <th>Element Code</th>\n",
       "      <th>Element</th>\n",
       "      <th>Unit</th>\n",
       "      <th>Y1961</th>\n",
       "      <th>...</th>\n",
       "      <th>Y2020N</th>\n",
       "      <th>Y2021</th>\n",
       "      <th>Y2021F</th>\n",
       "      <th>Y2021N</th>\n",
       "      <th>Y2022</th>\n",
       "      <th>Y2022F</th>\n",
       "      <th>Y2022N</th>\n",
       "      <th>Y2023</th>\n",
       "      <th>Y2023F</th>\n",
       "      <th>Y2023N</th>\n",
       "    </tr>\n",
       "  </thead>\n",
       "  <tbody>\n",
       "    <tr>\n",
       "      <th>0</th>\n",
       "      <td>2</td>\n",
       "      <td>'004</td>\n",
       "      <td>Afghanistan</td>\n",
       "      <td>221</td>\n",
       "      <td>'01371</td>\n",
       "      <td>Almonds, in shell</td>\n",
       "      <td>5312</td>\n",
       "      <td>Area harvested</td>\n",
       "      <td>ha</td>\n",
       "      <td>0.0</td>\n",
       "      <td>...</td>\n",
       "      <td>NaN</td>\n",
       "      <td>36862.0</td>\n",
       "      <td>A</td>\n",
       "      <td>NaN</td>\n",
       "      <td>36462.0</td>\n",
       "      <td>A</td>\n",
       "      <td>NaN</td>\n",
       "      <td>37000.0</td>\n",
       "      <td>A</td>\n",
       "      <td>NaN</td>\n",
       "    </tr>\n",
       "    <tr>\n",
       "      <th>1</th>\n",
       "      <td>2</td>\n",
       "      <td>'004</td>\n",
       "      <td>Afghanistan</td>\n",
       "      <td>221</td>\n",
       "      <td>'01371</td>\n",
       "      <td>Almonds, in shell</td>\n",
       "      <td>5412</td>\n",
       "      <td>Yield</td>\n",
       "      <td>kg/ha</td>\n",
       "      <td>NaN</td>\n",
       "      <td>...</td>\n",
       "      <td>NaN</td>\n",
       "      <td>1743.2</td>\n",
       "      <td>A</td>\n",
       "      <td>NaN</td>\n",
       "      <td>1742.0</td>\n",
       "      <td>A</td>\n",
       "      <td>NaN</td>\n",
       "      <td>1810.8</td>\n",
       "      <td>A</td>\n",
       "      <td>NaN</td>\n",
       "    </tr>\n",
       "  </tbody>\n",
       "</table>\n",
       "<p>2 rows × 198 columns</p>\n",
       "</div>"
      ],
      "text/plain": [
       "   Area Code Area Code (M49)         Area  Item Code Item Code (CPC)  \\\n",
       "0          2            '004  Afghanistan        221          '01371   \n",
       "1          2            '004  Afghanistan        221          '01371   \n",
       "\n",
       "                Item  Element Code         Element   Unit  Y1961  ... Y2020N  \\\n",
       "0  Almonds, in shell          5312  Area harvested     ha    0.0  ...    NaN   \n",
       "1  Almonds, in shell          5412           Yield  kg/ha    NaN  ...    NaN   \n",
       "\n",
       "     Y2021  Y2021F Y2021N    Y2022  Y2022F Y2022N    Y2023  Y2023F Y2023N  \n",
       "0  36862.0       A    NaN  36462.0       A    NaN  37000.0       A    NaN  \n",
       "1   1743.2       A    NaN   1742.0       A    NaN   1810.8       A    NaN  \n",
       "\n",
       "[2 rows x 198 columns]"
      ]
     },
     "execution_count": 3,
     "metadata": {},
     "output_type": "execute_result"
    }
   ],
   "source": [
    "df_all.head(2)"
   ]
  },
  {
   "cell_type": "code",
   "execution_count": 14,
   "id": "6c1187c7",
   "metadata": {},
   "outputs": [],
   "source": [
    "year_columns = [col for col in df_all.columns if col.startswith(\"Y\")]\n",
    "df_melted1= pd.melt(\n",
    "                   df_all,\n",
    "                   id_vars =['Area', 'Item'],\n",
    "                   )"
   ]
  },
  {
   "cell_type": "code",
   "execution_count": 17,
   "id": "c0dc49c5",
   "metadata": {},
   "outputs": [
    {
     "data": {
      "text/html": [
       "<div>\n",
       "<style scoped>\n",
       "    .dataframe tbody tr th:only-of-type {\n",
       "        vertical-align: middle;\n",
       "    }\n",
       "\n",
       "    .dataframe tbody tr th {\n",
       "        vertical-align: top;\n",
       "    }\n",
       "\n",
       "    .dataframe thead th {\n",
       "        text-align: right;\n",
       "    }\n",
       "</style>\n",
       "<table border=\"1\" class=\"dataframe\">\n",
       "  <thead>\n",
       "    <tr style=\"text-align: right;\">\n",
       "      <th></th>\n",
       "      <th>Area</th>\n",
       "      <th>Item</th>\n",
       "      <th>variable</th>\n",
       "      <th>value</th>\n",
       "    </tr>\n",
       "  </thead>\n",
       "  <tbody>\n",
       "    <tr>\n",
       "      <th>0</th>\n",
       "      <td>Afghanistan</td>\n",
       "      <td>Almonds, in shell</td>\n",
       "      <td>Area Code</td>\n",
       "      <td>2</td>\n",
       "    </tr>\n",
       "    <tr>\n",
       "      <th>1</th>\n",
       "      <td>Afghanistan</td>\n",
       "      <td>Almonds, in shell</td>\n",
       "      <td>Area Code</td>\n",
       "      <td>2</td>\n",
       "    </tr>\n",
       "    <tr>\n",
       "      <th>2</th>\n",
       "      <td>Afghanistan</td>\n",
       "      <td>Almonds, in shell</td>\n",
       "      <td>Area Code</td>\n",
       "      <td>2</td>\n",
       "    </tr>\n",
       "    <tr>\n",
       "      <th>3</th>\n",
       "      <td>Afghanistan</td>\n",
       "      <td>Anise, badian, coriander, cumin, caraway, fenn...</td>\n",
       "      <td>Area Code</td>\n",
       "      <td>2</td>\n",
       "    </tr>\n",
       "    <tr>\n",
       "      <th>4</th>\n",
       "      <td>Afghanistan</td>\n",
       "      <td>Anise, badian, coriander, cumin, caraway, fenn...</td>\n",
       "      <td>Area Code</td>\n",
       "      <td>2</td>\n",
       "    </tr>\n",
       "  </tbody>\n",
       "</table>\n",
       "</div>"
      ],
      "text/plain": [
       "          Area                                               Item   variable  \\\n",
       "0  Afghanistan                                  Almonds, in shell  Area Code   \n",
       "1  Afghanistan                                  Almonds, in shell  Area Code   \n",
       "2  Afghanistan                                  Almonds, in shell  Area Code   \n",
       "3  Afghanistan  Anise, badian, coriander, cumin, caraway, fenn...  Area Code   \n",
       "4  Afghanistan  Anise, badian, coriander, cumin, caraway, fenn...  Area Code   \n",
       "\n",
       "  value  \n",
       "0     2  \n",
       "1     2  \n",
       "2     2  \n",
       "3     2  \n",
       "4     2  "
      ]
     },
     "execution_count": 17,
     "metadata": {},
     "output_type": "execute_result"
    }
   ],
   "source": [
    "df_melted1.head(5)"
   ]
  },
  {
   "cell_type": "code",
   "execution_count": 24,
   "id": "87e236b8",
   "metadata": {},
   "outputs": [],
   "source": [
    "year_columns = [col for col in df_all.columns if col.startswith(\"Y\")]\n",
    "df_melted= pd.melt(\n",
    "                   df_all,\n",
    "                   id_vars =['Area', 'Item'],\n",
    "                   value_vars = year_columns,\n",
    "                   var_name = 'Year',\n",
    "                   value_name = 'Value')\n",
    "df_melted['Year'] = df_melted['Year'].str.extract(r'Y(\\d{4})')[0].astype(int)\n",
    "df_melted = df_melted.dropna(subset=['Value'])\n",
    "df_melted = df_melted[df_melted['Value'] != 0]"
   ]
  },
  {
   "cell_type": "code",
   "execution_count": 25,
   "id": "69fdbba4",
   "metadata": {},
   "outputs": [
    {
     "data": {
      "text/html": [
       "<div>\n",
       "<style scoped>\n",
       "    .dataframe tbody tr th:only-of-type {\n",
       "        vertical-align: middle;\n",
       "    }\n",
       "\n",
       "    .dataframe tbody tr th {\n",
       "        vertical-align: top;\n",
       "    }\n",
       "\n",
       "    .dataframe thead th {\n",
       "        text-align: right;\n",
       "    }\n",
       "</style>\n",
       "<table border=\"1\" class=\"dataframe\">\n",
       "  <thead>\n",
       "    <tr style=\"text-align: right;\">\n",
       "      <th></th>\n",
       "      <th>Area</th>\n",
       "      <th>Item</th>\n",
       "      <th>Year</th>\n",
       "      <th>Value</th>\n",
       "    </tr>\n",
       "  </thead>\n",
       "  <tbody>\n",
       "    <tr>\n",
       "      <th>6</th>\n",
       "      <td>Afghanistan</td>\n",
       "      <td>Apples</td>\n",
       "      <td>1961</td>\n",
       "      <td>2220.0</td>\n",
       "    </tr>\n",
       "    <tr>\n",
       "      <th>7</th>\n",
       "      <td>Afghanistan</td>\n",
       "      <td>Apples</td>\n",
       "      <td>1961</td>\n",
       "      <td>6801.8</td>\n",
       "    </tr>\n",
       "    <tr>\n",
       "      <th>8</th>\n",
       "      <td>Afghanistan</td>\n",
       "      <td>Apples</td>\n",
       "      <td>1961</td>\n",
       "      <td>15100.0</td>\n",
       "    </tr>\n",
       "    <tr>\n",
       "      <th>9</th>\n",
       "      <td>Afghanistan</td>\n",
       "      <td>Apricots</td>\n",
       "      <td>1961</td>\n",
       "      <td>4820.0</td>\n",
       "    </tr>\n",
       "    <tr>\n",
       "      <th>10</th>\n",
       "      <td>Afghanistan</td>\n",
       "      <td>Apricots</td>\n",
       "      <td>1961</td>\n",
       "      <td>6639.0</td>\n",
       "    </tr>\n",
       "  </tbody>\n",
       "</table>\n",
       "</div>"
      ],
      "text/plain": [
       "           Area      Item  Year    Value\n",
       "6   Afghanistan    Apples  1961   2220.0\n",
       "7   Afghanistan    Apples  1961   6801.8\n",
       "8   Afghanistan    Apples  1961  15100.0\n",
       "9   Afghanistan  Apricots  1961   4820.0\n",
       "10  Afghanistan  Apricots  1961   6639.0"
      ]
     },
     "execution_count": 25,
     "metadata": {},
     "output_type": "execute_result"
    }
   ],
   "source": [
    "df_melted.head(5)"
   ]
  },
  {
   "cell_type": "code",
   "execution_count": 29,
   "id": "b833ed16",
   "metadata": {},
   "outputs": [],
   "source": [
    "data_wheat = df_melted[df_melted['Item'] == 'Wheat']"
   ]
  },
  {
   "cell_type": "code",
   "execution_count": 36,
   "id": "75f89301",
   "metadata": {},
   "outputs": [
    {
     "data": {
      "text/html": [
       "<div>\n",
       "<style scoped>\n",
       "    .dataframe tbody tr th:only-of-type {\n",
       "        vertical-align: middle;\n",
       "    }\n",
       "\n",
       "    .dataframe tbody tr th {\n",
       "        vertical-align: top;\n",
       "    }\n",
       "\n",
       "    .dataframe thead th {\n",
       "        text-align: right;\n",
       "    }\n",
       "</style>\n",
       "<table border=\"1\" class=\"dataframe\">\n",
       "  <thead>\n",
       "    <tr style=\"text-align: right;\">\n",
       "      <th></th>\n",
       "      <th>Area</th>\n",
       "      <th>Item</th>\n",
       "      <th>Year</th>\n",
       "      <th>Value</th>\n",
       "    </tr>\n",
       "  </thead>\n",
       "  <tbody>\n",
       "    <tr>\n",
       "      <th>189</th>\n",
       "      <td>Afghanistan</td>\n",
       "      <td>Wheat</td>\n",
       "      <td>1961</td>\n",
       "      <td>2230000.0</td>\n",
       "    </tr>\n",
       "    <tr>\n",
       "      <th>190</th>\n",
       "      <td>Afghanistan</td>\n",
       "      <td>Wheat</td>\n",
       "      <td>1961</td>\n",
       "      <td>1022.0</td>\n",
       "    </tr>\n",
       "    <tr>\n",
       "      <th>191</th>\n",
       "      <td>Afghanistan</td>\n",
       "      <td>Wheat</td>\n",
       "      <td>1961</td>\n",
       "      <td>2279000.0</td>\n",
       "    </tr>\n",
       "    <tr>\n",
       "      <th>524</th>\n",
       "      <td>Albania</td>\n",
       "      <td>Wheat</td>\n",
       "      <td>1961</td>\n",
       "      <td>126500.0</td>\n",
       "    </tr>\n",
       "    <tr>\n",
       "      <th>525</th>\n",
       "      <td>Albania</td>\n",
       "      <td>Wheat</td>\n",
       "      <td>1961</td>\n",
       "      <td>773.1</td>\n",
       "    </tr>\n",
       "  </tbody>\n",
       "</table>\n",
       "</div>"
      ],
      "text/plain": [
       "            Area   Item  Year      Value\n",
       "189  Afghanistan  Wheat  1961  2230000.0\n",
       "190  Afghanistan  Wheat  1961     1022.0\n",
       "191  Afghanistan  Wheat  1961  2279000.0\n",
       "524      Albania  Wheat  1961   126500.0\n",
       "525      Albania  Wheat  1961      773.1"
      ]
     },
     "execution_count": 36,
     "metadata": {},
     "output_type": "execute_result"
    }
   ],
   "source": [
    "data_wheat.head(5)"
   ]
  },
  {
   "cell_type": "code",
   "execution_count": 39,
   "id": "0878bd22",
   "metadata": {},
   "outputs": [],
   "source": [
    "data_wheat['Value'] = pd.to_numeric(data_wheat['Value'], errors = 'coerce') \n",
    "data_wheat = data_wheat.dropna(subset = 'Value')"
   ]
  },
  {
   "cell_type": "code",
   "execution_count": 40,
   "id": "6492a27b",
   "metadata": {},
   "outputs": [
    {
     "data": {
      "text/html": [
       "<div>\n",
       "<style scoped>\n",
       "    .dataframe tbody tr th:only-of-type {\n",
       "        vertical-align: middle;\n",
       "    }\n",
       "\n",
       "    .dataframe tbody tr th {\n",
       "        vertical-align: top;\n",
       "    }\n",
       "\n",
       "    .dataframe thead th {\n",
       "        text-align: right;\n",
       "    }\n",
       "</style>\n",
       "<table border=\"1\" class=\"dataframe\">\n",
       "  <thead>\n",
       "    <tr style=\"text-align: right;\">\n",
       "      <th></th>\n",
       "      <th>Area</th>\n",
       "      <th>Item</th>\n",
       "      <th>Year</th>\n",
       "      <th>Value</th>\n",
       "    </tr>\n",
       "  </thead>\n",
       "  <tbody>\n",
       "    <tr>\n",
       "      <th>189</th>\n",
       "      <td>Afghanistan</td>\n",
       "      <td>Wheat</td>\n",
       "      <td>1961</td>\n",
       "      <td>2230000.0</td>\n",
       "    </tr>\n",
       "    <tr>\n",
       "      <th>190</th>\n",
       "      <td>Afghanistan</td>\n",
       "      <td>Wheat</td>\n",
       "      <td>1961</td>\n",
       "      <td>1022.0</td>\n",
       "    </tr>\n",
       "    <tr>\n",
       "      <th>191</th>\n",
       "      <td>Afghanistan</td>\n",
       "      <td>Wheat</td>\n",
       "      <td>1961</td>\n",
       "      <td>2279000.0</td>\n",
       "    </tr>\n",
       "    <tr>\n",
       "      <th>524</th>\n",
       "      <td>Albania</td>\n",
       "      <td>Wheat</td>\n",
       "      <td>1961</td>\n",
       "      <td>126500.0</td>\n",
       "    </tr>\n",
       "    <tr>\n",
       "      <th>525</th>\n",
       "      <td>Albania</td>\n",
       "      <td>Wheat</td>\n",
       "      <td>1961</td>\n",
       "      <td>773.1</td>\n",
       "    </tr>\n",
       "  </tbody>\n",
       "</table>\n",
       "</div>"
      ],
      "text/plain": [
       "            Area   Item  Year      Value\n",
       "189  Afghanistan  Wheat  1961  2230000.0\n",
       "190  Afghanistan  Wheat  1961     1022.0\n",
       "191  Afghanistan  Wheat  1961  2279000.0\n",
       "524      Albania  Wheat  1961   126500.0\n",
       "525      Albania  Wheat  1961      773.1"
      ]
     },
     "execution_count": 40,
     "metadata": {},
     "output_type": "execute_result"
    }
   ],
   "source": [
    "data_wheat.head(5)"
   ]
  },
  {
   "cell_type": "code",
   "execution_count": 44,
   "id": "1f63124f",
   "metadata": {},
   "outputs": [],
   "source": [
    "trend_wheat = data_wheat.groupby('Year')['Value'].sum().reset_index()"
   ]
  },
  {
   "cell_type": "code",
   "execution_count": 45,
   "id": "2a9ca165",
   "metadata": {},
   "outputs": [
    {
     "data": {
      "text/html": [
       "<div>\n",
       "<style scoped>\n",
       "    .dataframe tbody tr th:only-of-type {\n",
       "        vertical-align: middle;\n",
       "    }\n",
       "\n",
       "    .dataframe tbody tr th {\n",
       "        vertical-align: top;\n",
       "    }\n",
       "\n",
       "    .dataframe thead th {\n",
       "        text-align: right;\n",
       "    }\n",
       "</style>\n",
       "<table border=\"1\" class=\"dataframe\">\n",
       "  <thead>\n",
       "    <tr style=\"text-align: right;\">\n",
       "      <th></th>\n",
       "      <th>Year</th>\n",
       "      <th>Value</th>\n",
       "    </tr>\n",
       "  </thead>\n",
       "  <tbody>\n",
       "    <tr>\n",
       "      <th>0</th>\n",
       "      <td>1961</td>\n",
       "      <td>1.857128e+09</td>\n",
       "    </tr>\n",
       "    <tr>\n",
       "      <th>1</th>\n",
       "      <td>1962</td>\n",
       "      <td>1.996708e+09</td>\n",
       "    </tr>\n",
       "    <tr>\n",
       "      <th>2</th>\n",
       "      <td>1963</td>\n",
       "      <td>1.916451e+09</td>\n",
       "    </tr>\n",
       "    <tr>\n",
       "      <th>3</th>\n",
       "      <td>1964</td>\n",
       "      <td>2.111769e+09</td>\n",
       "    </tr>\n",
       "    <tr>\n",
       "      <th>4</th>\n",
       "      <td>1965</td>\n",
       "      <td>2.103867e+09</td>\n",
       "    </tr>\n",
       "    <tr>\n",
       "      <th>...</th>\n",
       "      <td>...</td>\n",
       "      <td>...</td>\n",
       "    </tr>\n",
       "    <tr>\n",
       "      <th>58</th>\n",
       "      <td>2019</td>\n",
       "      <td>4.415106e+09</td>\n",
       "    </tr>\n",
       "    <tr>\n",
       "      <th>59</th>\n",
       "      <td>2020</td>\n",
       "      <td>4.410664e+09</td>\n",
       "    </tr>\n",
       "    <tr>\n",
       "      <th>60</th>\n",
       "      <td>2021</td>\n",
       "      <td>4.495068e+09</td>\n",
       "    </tr>\n",
       "    <tr>\n",
       "      <th>61</th>\n",
       "      <td>2022</td>\n",
       "      <td>4.630301e+09</td>\n",
       "    </tr>\n",
       "    <tr>\n",
       "      <th>62</th>\n",
       "      <td>2023</td>\n",
       "      <td>4.587678e+09</td>\n",
       "    </tr>\n",
       "  </tbody>\n",
       "</table>\n",
       "<p>63 rows × 2 columns</p>\n",
       "</div>"
      ],
      "text/plain": [
       "    Year         Value\n",
       "0   1961  1.857128e+09\n",
       "1   1962  1.996708e+09\n",
       "2   1963  1.916451e+09\n",
       "3   1964  2.111769e+09\n",
       "4   1965  2.103867e+09\n",
       "..   ...           ...\n",
       "58  2019  4.415106e+09\n",
       "59  2020  4.410664e+09\n",
       "60  2021  4.495068e+09\n",
       "61  2022  4.630301e+09\n",
       "62  2023  4.587678e+09\n",
       "\n",
       "[63 rows x 2 columns]"
      ]
     },
     "execution_count": 45,
     "metadata": {},
     "output_type": "execute_result"
    }
   ],
   "source": [
    "trend_wheat"
   ]
  },
  {
   "cell_type": "code",
   "execution_count": 50,
   "id": "9574a2ce",
   "metadata": {},
   "outputs": [],
   "source": [
    "import matplotlib.pyplot as plt\n",
    "import seaborn as sns"
   ]
  },
  {
   "cell_type": "code",
   "execution_count": 59,
   "id": "ca6b6fd0",
   "metadata": {},
   "outputs": [
    {
     "data": {
      "image/png": "[encoded data removed]",
      "text/plain": [
       "<Figure size 1000x500 with 1 Axes>"
      ]
     },
     "metadata": {},
     "output_type": "display_data"
    }
   ],
   "source": [
    "#plt.figure(figsize=(10, 5))\n",
    "plt.figure(figsize=(10, 5))\n",
    "sns.lineplot(data= trend_wheat, x = 'Year', y= 'Value')\n",
    "plt.title('Global Wheat Production over Time')\n",
    "plt.xlabel('Year')\n",
    "plt.ylabel('Production(tones)')\n",
    "plt.grid(True)\n",
    "plt.show()"
   ]
  },
  {
   "cell_type": "code",
   "execution_count": 60,
   "id": "a0f28789",
   "metadata": {},
   "outputs": [
    {
     "name": "stdout",
     "output_type": "stream",
     "text": [
      "FAO1.ipynb\r\n",
      "Production_Crops_Livestock_E_All_Data.csv\r\n",
      "Production_Crops_Livestock_E_All_Data_NOFLAG.csv\r\n",
      "Production_Crops_Livestock_E_AreaCodes.csv\r\n",
      "Production_Crops_Livestock_E_Elements.csv\r\n",
      "Production_Crops_Livestock_E_Flags.csv\r\n",
      "Production_Crops_Livestock_E_ItemCodes.csv\r\n",
      "Untitled.ipynb\r\n"
     ]
    }
   ],
   "source": [
    "ls"
   ]
  },
  {
   "cell_type": "code",
   "execution_count": 61,
   "id": "82f88948",
   "metadata": {},
   "outputs": [
    {
     "data": {
      "text/html": [
       "<div>\n",
       "<style scoped>\n",
       "    .dataframe tbody tr th:only-of-type {\n",
       "        vertical-align: middle;\n",
       "    }\n",
       "\n",
       "    .dataframe tbody tr th {\n",
       "        vertical-align: top;\n",
       "    }\n",
       "\n",
       "    .dataframe thead th {\n",
       "        text-align: right;\n",
       "    }\n",
       "</style>\n",
       "<table border=\"1\" class=\"dataframe\">\n",
       "  <thead>\n",
       "    <tr style=\"text-align: right;\">\n",
       "      <th></th>\n",
       "      <th>Area Code</th>\n",
       "      <th>Area Code (M49)</th>\n",
       "      <th>Area</th>\n",
       "      <th>Item Code</th>\n",
       "      <th>Item Code (CPC)</th>\n",
       "      <th>Item</th>\n",
       "      <th>Element Code</th>\n",
       "      <th>Element</th>\n",
       "      <th>Unit</th>\n",
       "      <th>Y1961</th>\n",
       "      <th>...</th>\n",
       "      <th>Y2020N</th>\n",
       "      <th>Y2021</th>\n",
       "      <th>Y2021F</th>\n",
       "      <th>Y2021N</th>\n",
       "      <th>Y2022</th>\n",
       "      <th>Y2022F</th>\n",
       "      <th>Y2022N</th>\n",
       "      <th>Y2023</th>\n",
       "      <th>Y2023F</th>\n",
       "      <th>Y2023N</th>\n",
       "    </tr>\n",
       "  </thead>\n",
       "  <tbody>\n",
       "    <tr>\n",
       "      <th>0</th>\n",
       "      <td>2</td>\n",
       "      <td>'004</td>\n",
       "      <td>Afghanistan</td>\n",
       "      <td>221</td>\n",
       "      <td>'01371</td>\n",
       "      <td>Almonds, in shell</td>\n",
       "      <td>5312</td>\n",
       "      <td>Area harvested</td>\n",
       "      <td>ha</td>\n",
       "      <td>0.0</td>\n",
       "      <td>...</td>\n",
       "      <td>NaN</td>\n",
       "      <td>36862.0</td>\n",
       "      <td>A</td>\n",
       "      <td>NaN</td>\n",
       "      <td>36462.0</td>\n",
       "      <td>A</td>\n",
       "      <td>NaN</td>\n",
       "      <td>37000.0</td>\n",
       "      <td>A</td>\n",
       "      <td>NaN</td>\n",
       "    </tr>\n",
       "    <tr>\n",
       "      <th>1</th>\n",
       "      <td>2</td>\n",
       "      <td>'004</td>\n",
       "      <td>Afghanistan</td>\n",
       "      <td>221</td>\n",
       "      <td>'01371</td>\n",
       "      <td>Almonds, in shell</td>\n",
       "      <td>5412</td>\n",
       "      <td>Yield</td>\n",
       "      <td>kg/ha</td>\n",
       "      <td>NaN</td>\n",
       "      <td>...</td>\n",
       "      <td>NaN</td>\n",
       "      <td>1743.2</td>\n",
       "      <td>A</td>\n",
       "      <td>NaN</td>\n",
       "      <td>1742.0</td>\n",
       "      <td>A</td>\n",
       "      <td>NaN</td>\n",
       "      <td>1810.8</td>\n",
       "      <td>A</td>\n",
       "      <td>NaN</td>\n",
       "    </tr>\n",
       "    <tr>\n",
       "      <th>2</th>\n",
       "      <td>2</td>\n",
       "      <td>'004</td>\n",
       "      <td>Afghanistan</td>\n",
       "      <td>221</td>\n",
       "      <td>'01371</td>\n",
       "      <td>Almonds, in shell</td>\n",
       "      <td>5510</td>\n",
       "      <td>Production</td>\n",
       "      <td>t</td>\n",
       "      <td>0.0</td>\n",
       "      <td>...</td>\n",
       "      <td>NaN</td>\n",
       "      <td>64256.0</td>\n",
       "      <td>A</td>\n",
       "      <td>NaN</td>\n",
       "      <td>63515.0</td>\n",
       "      <td>A</td>\n",
       "      <td>NaN</td>\n",
       "      <td>67000.0</td>\n",
       "      <td>A</td>\n",
       "      <td>NaN</td>\n",
       "    </tr>\n",
       "    <tr>\n",
       "      <th>3</th>\n",
       "      <td>2</td>\n",
       "      <td>'004</td>\n",
       "      <td>Afghanistan</td>\n",
       "      <td>711</td>\n",
       "      <td>'01654</td>\n",
       "      <td>Anise, badian, coriander, cumin, caraway, fenn...</td>\n",
       "      <td>5312</td>\n",
       "      <td>Area harvested</td>\n",
       "      <td>ha</td>\n",
       "      <td>NaN</td>\n",
       "      <td>...</td>\n",
       "      <td>NaN</td>\n",
       "      <td>25357.0</td>\n",
       "      <td>E</td>\n",
       "      <td>NaN</td>\n",
       "      <td>25403.0</td>\n",
       "      <td>E</td>\n",
       "      <td>NaN</td>\n",
       "      <td>25439.0</td>\n",
       "      <td>E</td>\n",
       "      <td>NaN</td>\n",
       "    </tr>\n",
       "    <tr>\n",
       "      <th>4</th>\n",
       "      <td>2</td>\n",
       "      <td>'004</td>\n",
       "      <td>Afghanistan</td>\n",
       "      <td>711</td>\n",
       "      <td>'01654</td>\n",
       "      <td>Anise, badian, coriander, cumin, caraway, fenn...</td>\n",
       "      <td>5412</td>\n",
       "      <td>Yield</td>\n",
       "      <td>kg/ha</td>\n",
       "      <td>NaN</td>\n",
       "      <td>...</td>\n",
       "      <td>NaN</td>\n",
       "      <td>705.0</td>\n",
       "      <td>E</td>\n",
       "      <td>NaN</td>\n",
       "      <td>704.0</td>\n",
       "      <td>E</td>\n",
       "      <td>NaN</td>\n",
       "      <td>704.0</td>\n",
       "      <td>E</td>\n",
       "      <td>NaN</td>\n",
       "    </tr>\n",
       "  </tbody>\n",
       "</table>\n",
       "<p>5 rows × 198 columns</p>\n",
       "</div>"
      ],
      "text/plain": [
       "   Area Code Area Code (M49)         Area  Item Code Item Code (CPC)  \\\n",
       "0          2            '004  Afghanistan        221          '01371   \n",
       "1          2            '004  Afghanistan        221          '01371   \n",
       "2          2            '004  Afghanistan        221          '01371   \n",
       "3          2            '004  Afghanistan        711          '01654   \n",
       "4          2            '004  Afghanistan        711          '01654   \n",
       "\n",
       "                                                Item  Element Code  \\\n",
       "0                                  Almonds, in shell          5312   \n",
       "1                                  Almonds, in shell          5412   \n",
       "2                                  Almonds, in shell          5510   \n",
       "3  Anise, badian, coriander, cumin, caraway, fenn...          5312   \n",
       "4  Anise, badian, coriander, cumin, caraway, fenn...          5412   \n",
       "\n",
       "          Element   Unit  Y1961  ... Y2020N    Y2021  Y2021F Y2021N    Y2022  \\\n",
       "0  Area harvested     ha    0.0  ...    NaN  36862.0       A    NaN  36462.0   \n",
       "1           Yield  kg/ha    NaN  ...    NaN   1743.2       A    NaN   1742.0   \n",
       "2      Production      t    0.0  ...    NaN  64256.0       A    NaN  63515.0   \n",
       "3  Area harvested     ha    NaN  ...    NaN  25357.0       E    NaN  25403.0   \n",
       "4           Yield  kg/ha    NaN  ...    NaN    705.0       E    NaN    704.0   \n",
       "\n",
       "   Y2022F Y2022N    Y2023  Y2023F Y2023N  \n",
       "0       A    NaN  37000.0       A    NaN  \n",
       "1       A    NaN   1810.8       A    NaN  \n",
       "2       A    NaN  67000.0       A    NaN  \n",
       "3       E    NaN  25439.0       E    NaN  \n",
       "4       E    NaN    704.0       E    NaN  \n",
       "\n",
       "[5 rows x 198 columns]"
      ]
     },
     "execution_count": 61,
     "metadata": {},
     "output_type": "execute_result"
    }
   ],
   "source": [
    "df_all.head(5)"
   ]
  },
  {
   "cell_type": "code",
   "execution_count": 66,
   "id": "bacf527e",
   "metadata": {},
   "outputs": [
    {
     "data": {
      "text/plain": [
       "<bound method Series.unique of 0        Area harvested\n",
       "1                 Yield\n",
       "2            Production\n",
       "3        Area harvested\n",
       "4                 Yield\n",
       "              ...      \n",
       "78167             Yield\n",
       "78168        Production\n",
       "78169    Area harvested\n",
       "78170             Yield\n",
       "78171        Production\n",
       "Name: Element, Length: 78172, dtype: object>"
      ]
     },
     "execution_count": 66,
     "metadata": {},
     "output_type": "execute_result"
    }
   ],
   "source": [
    "# reshape the data (wide –––––––––> long format):\n",
    "df_all['Element'].unique"
   ]
  },
  {
   "cell_type": "code",
   "execution_count": 97,
   "id": "c0ad1e7a",
   "metadata": {},
   "outputs": [],
   "source": [
    "data_wheat = df_all[\n",
    "    (df_all['Item'] == 'Wheat')&\n",
    "    (df_all['Element'] == 'Production')\n",
    "]\n",
    "# melt the year columns into one:\n",
    "year_columns = [col for col in data_wheat.columns if col.startswith(\"Y\")]\n",
    "wheat_long= pd.melt(\n",
    "                    data_wheat,\n",
    "                    id_vars= ['Area', 'Item', 'Element', 'Unit'],\n",
    "                    value_vars = year_columns,\n",
    "                    var_name = 'Year',\n",
    "                    value_name = 'Value')\n",
    "wheat_long[\"Year\"] = wheat_long[\"Year\"].str.extract(r\"(\\d{4})\").astype(int)\n",
    "wheat_long = wheat_long.dropna(subset = 'Value')"
   ]
  },
  {
   "cell_type": "code",
   "execution_count": 104,
   "id": "7db46a49",
   "metadata": {},
   "outputs": [
    {
     "name": "stdout",
     "output_type": "stream",
     "text": [
      "object\n"
     ]
    }
   ],
   "source": [
    "print(wheat_long['Value'].dtype)"
   ]
  },
  {
   "cell_type": "code",
   "execution_count": 107,
   "id": "e03b985c",
   "metadata": {},
   "outputs": [],
   "source": [
    "wheat_long['Value'] = pd.to_numeric(wheat_long['Value'], errors = 'coerce')"
   ]
  },
  {
   "cell_type": "code",
   "execution_count": 99,
   "id": "26068f9d",
   "metadata": {},
   "outputs": [],
   "source": [
    "import matplotlib.pyplot as plt\n",
    "import seaborn as sns"
   ]
  },
  {
   "cell_type": "code",
   "execution_count": 119,
   "id": "641e4b55",
   "metadata": {},
   "outputs": [
    {
     "data": {
      "image/png": "[encoded data removed]",
      "text/plain": [
       "<Figure size 1200x600 with 1 Axes>"
      ]
     },
     "metadata": {},
     "output_type": "display_data"
    }
   ],
   "source": [
    "plt.figure(figsize=(12, 6))\n",
    "sns.lineplot(data = wheat_long.groupby('Year')['Value'].sum().reset_index(), x = 'Year', \n",
    "             y= 'Value')\n",
    "plt.title('Global wheat production over Time')\n",
    "plt.ylabel(' Production(tonnes')\n",
    "plt.xlabel('Year')\n",
    "plt.tight_layout()\n",
    "plt.show()"
   ]
  },
  {
   "cell_type": "code",
   "execution_count": 140,
   "id": "71140709",
   "metadata": {},
   "outputs": [
    {
     "data": {
      "image/png": "[encoded data removed]",
      "text/plain": [
       "<Figure size 1200x600 with 1 Axes>"
      ]
     },
     "metadata": {},
     "output_type": "display_data"
    }
   ],
   "source": [
    "# identify top 10 wheat producers in 2022\n",
    "wheat_2022 = wheat_long[wheat_long['Year'] == 2022]\n",
    "top_countries = wheat_2022.groupby('Area')['Value'].sum().sort_values(ascending = False).head(20)\n",
    "plt.figure(figsize=(12, 6))\n",
    "sns.barplot(x= top_countries.values, y= top_countries.index, palette='viridis')\n",
    "plt.tight_layout()"
   ]
  },
  {
   "cell_type": "code",
   "execution_count": 134,
   "id": "3a0b1066",
   "metadata": {},
   "outputs": [
    {
     "data": {
      "text/plain": [
       "Area\n",
       "World                                      8.113844e+08\n",
       "Asia                                       3.461306e+08\n",
       "Europe                                     2.832530e+08\n",
       "Eastern Europe                             1.686369e+08\n",
       "Southern Asia                              1.541848e+08\n",
       "Eastern Asia                               1.392265e+08\n",
       "China                                      1.377260e+08\n",
       "China, mainland                            1.377200e+08\n",
       "European Union (27)                        1.343042e+08\n",
       "Americas                                   1.192453e+08\n",
       "India                                      1.077421e+08\n",
       "Russian Federation                         1.042339e+08\n",
       "Northern America                           7.923262e+07\n",
       "Western Europe                             6.251950e+07\n",
       "Net Food Importing Developing Countries    5.466701e+07\n",
       "United States of America                   4.489783e+07\n",
       "Land Locked Developing Countries           4.226233e+07\n",
       "Oceania                                    3.664004e+07\n",
       "Australia and New Zealand                  3.664003e+07\n",
       "South America                              3.640054e+07\n",
       "Name: Value, dtype: float64"
      ]
     },
     "execution_count": 134,
     "metadata": {},
     "output_type": "execute_result"
    }
   ],
   "source": [
    "top_countries"
   ]
  },
  {
   "cell_type": "code",
   "execution_count": 126,
   "id": "02f44661",
   "metadata": {},
   "outputs": [
    {
     "data": {
      "text/html": [
       "<div>\n",
       "<style scoped>\n",
       "    .dataframe tbody tr th:only-of-type {\n",
       "        vertical-align: middle;\n",
       "    }\n",
       "\n",
       "    .dataframe tbody tr th {\n",
       "        vertical-align: top;\n",
       "    }\n",
       "\n",
       "    .dataframe thead th {\n",
       "        text-align: right;\n",
       "    }\n",
       "</style>\n",
       "<table border=\"1\" class=\"dataframe\">\n",
       "  <thead>\n",
       "    <tr style=\"text-align: right;\">\n",
       "      <th></th>\n",
       "      <th>Area</th>\n",
       "      <th>Item</th>\n",
       "      <th>Element</th>\n",
       "      <th>Unit</th>\n",
       "      <th>Year</th>\n",
       "      <th>Value</th>\n",
       "    </tr>\n",
       "  </thead>\n",
       "  <tbody>\n",
       "    <tr>\n",
       "      <th>30195</th>\n",
       "      <td>Afghanistan</td>\n",
       "      <td>Wheat</td>\n",
       "      <td>Production</td>\n",
       "      <td>t</td>\n",
       "      <td>2022</td>\n",
       "      <td>3802895.0</td>\n",
       "    </tr>\n",
       "    <tr>\n",
       "      <th>30196</th>\n",
       "      <td>Albania</td>\n",
       "      <td>Wheat</td>\n",
       "      <td>Production</td>\n",
       "      <td>t</td>\n",
       "      <td>2022</td>\n",
       "      <td>233145.0</td>\n",
       "    </tr>\n",
       "    <tr>\n",
       "      <th>30197</th>\n",
       "      <td>Algeria</td>\n",
       "      <td>Wheat</td>\n",
       "      <td>Production</td>\n",
       "      <td>t</td>\n",
       "      <td>2022</td>\n",
       "      <td>3000000.0</td>\n",
       "    </tr>\n",
       "    <tr>\n",
       "      <th>30198</th>\n",
       "      <td>Angola</td>\n",
       "      <td>Wheat</td>\n",
       "      <td>Production</td>\n",
       "      <td>t</td>\n",
       "      <td>2022</td>\n",
       "      <td>8097.0</td>\n",
       "    </tr>\n",
       "    <tr>\n",
       "      <th>30199</th>\n",
       "      <td>Argentina</td>\n",
       "      <td>Wheat</td>\n",
       "      <td>Production</td>\n",
       "      <td>t</td>\n",
       "      <td>2022</td>\n",
       "      <td>22150287.0</td>\n",
       "    </tr>\n",
       "    <tr>\n",
       "      <th>...</th>\n",
       "      <td>...</td>\n",
       "      <td>...</td>\n",
       "      <td>...</td>\n",
       "      <td>...</td>\n",
       "      <td>...</td>\n",
       "      <td>...</td>\n",
       "    </tr>\n",
       "    <tr>\n",
       "      <th>30635</th>\n",
       "      <td>Sudan</td>\n",
       "      <td>Wheat</td>\n",
       "      <td>Production</td>\n",
       "      <td>t</td>\n",
       "      <td>2022</td>\n",
       "      <td>NaN</td>\n",
       "    </tr>\n",
       "    <tr>\n",
       "      <th>30640</th>\n",
       "      <td>Tajikistan</td>\n",
       "      <td>Wheat</td>\n",
       "      <td>Production</td>\n",
       "      <td>t</td>\n",
       "      <td>2022</td>\n",
       "      <td>NaN</td>\n",
       "    </tr>\n",
       "    <tr>\n",
       "      <th>30645</th>\n",
       "      <td>Uganda</td>\n",
       "      <td>Wheat</td>\n",
       "      <td>Production</td>\n",
       "      <td>t</td>\n",
       "      <td>2022</td>\n",
       "      <td>NaN</td>\n",
       "    </tr>\n",
       "    <tr>\n",
       "      <th>30655</th>\n",
       "      <td>Yemen</td>\n",
       "      <td>Wheat</td>\n",
       "      <td>Production</td>\n",
       "      <td>t</td>\n",
       "      <td>2022</td>\n",
       "      <td>NaN</td>\n",
       "    </tr>\n",
       "    <tr>\n",
       "      <th>30658</th>\n",
       "      <td>Zimbabwe</td>\n",
       "      <td>Wheat</td>\n",
       "      <td>Production</td>\n",
       "      <td>t</td>\n",
       "      <td>2022</td>\n",
       "      <td>NaN</td>\n",
       "    </tr>\n",
       "  </tbody>\n",
       "</table>\n",
       "<p>332 rows × 6 columns</p>\n",
       "</div>"
      ],
      "text/plain": [
       "              Area   Item     Element Unit  Year       Value\n",
       "30195  Afghanistan  Wheat  Production    t  2022   3802895.0\n",
       "30196      Albania  Wheat  Production    t  2022    233145.0\n",
       "30197      Algeria  Wheat  Production    t  2022   3000000.0\n",
       "30198       Angola  Wheat  Production    t  2022      8097.0\n",
       "30199    Argentina  Wheat  Production    t  2022  22150287.0\n",
       "...            ...    ...         ...  ...   ...         ...\n",
       "30635        Sudan  Wheat  Production    t  2022         NaN\n",
       "30640   Tajikistan  Wheat  Production    t  2022         NaN\n",
       "30645       Uganda  Wheat  Production    t  2022         NaN\n",
       "30655        Yemen  Wheat  Production    t  2022         NaN\n",
       "30658     Zimbabwe  Wheat  Production    t  2022         NaN\n",
       "\n",
       "[332 rows x 6 columns]"
      ]
     },
     "execution_count": 126,
     "metadata": {},
     "output_type": "execute_result"
    }
   ],
   "source": [
    "wheat_2022 "
   ]
  },
  {
   "cell_type": "code",
   "execution_count": 98,
   "id": "c518dc27",
   "metadata": {},
   "outputs": [
    {
     "data": {
      "text/html": [
       "<div>\n",
       "<style scoped>\n",
       "    .dataframe tbody tr th:only-of-type {\n",
       "        vertical-align: middle;\n",
       "    }\n",
       "\n",
       "    .dataframe tbody tr th {\n",
       "        vertical-align: top;\n",
       "    }\n",
       "\n",
       "    .dataframe thead th {\n",
       "        text-align: right;\n",
       "    }\n",
       "</style>\n",
       "<table border=\"1\" class=\"dataframe\">\n",
       "  <thead>\n",
       "    <tr style=\"text-align: right;\">\n",
       "      <th></th>\n",
       "      <th>Area</th>\n",
       "      <th>Item</th>\n",
       "      <th>Element</th>\n",
       "      <th>Unit</th>\n",
       "      <th>Year</th>\n",
       "      <th>Value</th>\n",
       "    </tr>\n",
       "  </thead>\n",
       "  <tbody>\n",
       "    <tr>\n",
       "      <th>0</th>\n",
       "      <td>Afghanistan</td>\n",
       "      <td>Wheat</td>\n",
       "      <td>Production</td>\n",
       "      <td>t</td>\n",
       "      <td>1961</td>\n",
       "      <td>2279000.0</td>\n",
       "    </tr>\n",
       "    <tr>\n",
       "      <th>1</th>\n",
       "      <td>Albania</td>\n",
       "      <td>Wheat</td>\n",
       "      <td>Production</td>\n",
       "      <td>t</td>\n",
       "      <td>1961</td>\n",
       "      <td>97800.0</td>\n",
       "    </tr>\n",
       "    <tr>\n",
       "      <th>2</th>\n",
       "      <td>Algeria</td>\n",
       "      <td>Wheat</td>\n",
       "      <td>Production</td>\n",
       "      <td>t</td>\n",
       "      <td>1961</td>\n",
       "      <td>685723.0</td>\n",
       "    </tr>\n",
       "    <tr>\n",
       "      <th>3</th>\n",
       "      <td>Angola</td>\n",
       "      <td>Wheat</td>\n",
       "      <td>Production</td>\n",
       "      <td>t</td>\n",
       "      <td>1961</td>\n",
       "      <td>20000.0</td>\n",
       "    </tr>\n",
       "    <tr>\n",
       "      <th>4</th>\n",
       "      <td>Argentina</td>\n",
       "      <td>Wheat</td>\n",
       "      <td>Production</td>\n",
       "      <td>t</td>\n",
       "      <td>1961</td>\n",
       "      <td>5725000.0</td>\n",
       "    </tr>\n",
       "    <tr>\n",
       "      <th>...</th>\n",
       "      <td>...</td>\n",
       "      <td>...</td>\n",
       "      <td>...</td>\n",
       "      <td>...</td>\n",
       "      <td>...</td>\n",
       "      <td>...</td>\n",
       "    </tr>\n",
       "    <tr>\n",
       "      <th>31135</th>\n",
       "      <td>Tajikistan</td>\n",
       "      <td>Wheat</td>\n",
       "      <td>Production</td>\n",
       "      <td>t</td>\n",
       "      <td>2023</td>\n",
       "      <td>Unofficial figure</td>\n",
       "    </tr>\n",
       "    <tr>\n",
       "      <th>31137</th>\n",
       "      <td>Tunisia</td>\n",
       "      <td>Wheat</td>\n",
       "      <td>Production</td>\n",
       "      <td>t</td>\n",
       "      <td>2023</td>\n",
       "      <td>Unofficial figure</td>\n",
       "    </tr>\n",
       "    <tr>\n",
       "      <th>31140</th>\n",
       "      <td>Uganda</td>\n",
       "      <td>Wheat</td>\n",
       "      <td>Production</td>\n",
       "      <td>t</td>\n",
       "      <td>2023</td>\n",
       "      <td>Unofficial figure</td>\n",
       "    </tr>\n",
       "    <tr>\n",
       "      <th>31150</th>\n",
       "      <td>Yemen</td>\n",
       "      <td>Wheat</td>\n",
       "      <td>Production</td>\n",
       "      <td>t</td>\n",
       "      <td>2023</td>\n",
       "      <td>Unofficial figure</td>\n",
       "    </tr>\n",
       "    <tr>\n",
       "      <th>31153</th>\n",
       "      <td>Zimbabwe</td>\n",
       "      <td>Wheat</td>\n",
       "      <td>Production</td>\n",
       "      <td>t</td>\n",
       "      <td>2023</td>\n",
       "      <td>Unofficial figure</td>\n",
       "    </tr>\n",
       "  </tbody>\n",
       "</table>\n",
       "<p>18574 rows × 6 columns</p>\n",
       "</div>"
      ],
      "text/plain": [
       "              Area   Item     Element Unit  Year              Value\n",
       "0      Afghanistan  Wheat  Production    t  1961          2279000.0\n",
       "1          Albania  Wheat  Production    t  1961            97800.0\n",
       "2          Algeria  Wheat  Production    t  1961           685723.0\n",
       "3           Angola  Wheat  Production    t  1961            20000.0\n",
       "4        Argentina  Wheat  Production    t  1961          5725000.0\n",
       "...            ...    ...         ...  ...   ...                ...\n",
       "31135   Tajikistan  Wheat  Production    t  2023  Unofficial figure\n",
       "31137      Tunisia  Wheat  Production    t  2023  Unofficial figure\n",
       "31140       Uganda  Wheat  Production    t  2023  Unofficial figure\n",
       "31150        Yemen  Wheat  Production    t  2023  Unofficial figure\n",
       "31153     Zimbabwe  Wheat  Production    t  2023  Unofficial figure\n",
       "\n",
       "[18574 rows x 6 columns]"
      ]
     },
     "execution_count": 98,
     "metadata": {},
     "output_type": "execute_result"
    }
   ],
   "source": [
    "wheat_long"
   ]
  },
  {
   "cell_type": "code",
   "execution_count": null,
   "id": "b43a46d4",
   "metadata": {},
   "outputs": [],
   "source": []
  }
 ],
 "metadata": {
  "kernelspec": {
   "display_name": "Python 3 (ipykernel)",
   "language": "python",
   "name": "python3"
  },
  "language_info": {
   "codemirror_mode": {
    "name": "ipython",
    "version": 3
   },
   "file_extension": ".py",
   "mimetype": "text/x-python",
   "name": "python",
   "nbconvert_exporter": "python",
   "pygments_lexer": "ipython3",
   "version": "3.9.18"
  }
 },
 "nbformat": 4,
 "nbformat_minor": 5
}
